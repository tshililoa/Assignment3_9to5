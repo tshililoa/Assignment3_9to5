{
    "metadata": {
        "kernelspec": {
            "name": "SQL",
            "display_name": "SQL",
            "language": "sql"
        },
        "language_info": {
            "name": "sql",
            "version": ""
        },
        "extensions": {
            "azuredatastudio": {
                "version": 1,
                "views": []
            }
        }
    },
    "nbformat_minor": 2,
    "nbformat": 4,
    "cells": [
        {
            "cell_type": "markdown",
            "source": [
                "# <span style=\"font-size: 20pt; font-family: Montserrat, sans-serif; color: rgb(92, 148, 206); background-color: rgb(255, 255, 255); font-weight: 700; font-variant-east-asian: normal; vertical-align: baseline; white-space: pre-wrap;\">Graded Assignment 3: 9 to 5</span>\n",
                "\n",
                "  \n",
                "\n",
                "<span style=\"font-size: 10pt; font-family: &quot;Times New Roman&quot;; color: rgb(102, 102, 102); background-color: rgb(255, 255, 255); font-variant-east-asian: normal; vertical-align: baseline; white-space: pre-wrap;\">Time to show off your SQL skills! For each question, copy the SQL query you used and make note of the answer.</span>\n",
                "\n",
                "  \n",
                "\n",
                "## <span style=\"font-size: 12pt; font-family: Montserrat, sans-serif; color: rgb(53, 74, 95); background-color: rgb(255, 255, 255); font-weight: 700; font-variant-east-asian: normal; vertical-align: baseline; white-space: pre-wrap;\">The Dataset</span>\n",
                "\n",
                "<span style=\"font-size: 10pt; font-family: &quot;Times New Roman&quot;; color: rgb(102, 102, 102); background-color: rgb(255, 255, 255); font-variant-east-asian: normal; vertical-align: baseline; white-space: pre-wrap;\">For this assignment, you will be using the Bureau of Labor Statistics (BLS) Current Employment Survey (CES) results which can be found on</span> [<span style=\"font-size: 10pt; font-family: &quot;Times New Roman&quot;; color: rgb(17, 85, 204); background-color: rgb(255, 255, 255); font-variant-east-asian: normal; text-decoration-line: underline; vertical-align: baseline; white-space: pre-wrap;\">Kaggle</span>](https://www.kaggle.com/bls/employment)<span style=\"font-size: 10pt; font-family: &quot;Times New Roman&quot;; color: rgb(102, 102, 102); background-color: rgb(255, 255, 255); font-variant-east-asian: normal; vertical-align: baseline; white-space: pre-wrap;\">.</span>\n",
                "\n",
                "  \n",
                "\n",
                "## <span style=\"font-size: 12pt; font-family: Montserrat, sans-serif; color: rgb(53, 74, 95); background-color: rgb(255, 255, 255); font-weight: 700; font-variant-east-asian: normal; vertical-align: baseline; white-space: pre-wrap;\">Business Issue</span>\n",
                "\n",
                "<span style=\"font-size: 10pt; font-family: &quot;Times New Roman&quot;; color: rgb(102, 102, 102); background-color: rgb(255, 255, 255); font-variant-east-asian: normal; vertical-align: baseline; white-space: pre-wrap;\">You are working for the Bureau of Labor Statistics with the United States government and have been approached by your boss with an important meeting request. You have been asked by your supervisor to meet with Dolly Parton whose nonprofit is looking to shed light on the state of employment in the United States. As part of the 9 to 5 project, their research is focused on production and nonsupervisory employees and how those employees fare compared to all employees in the United States. While the data the BLS collects from the CES is publicly available, Dolly Parton and her colleagues need your assistance navigating the thousands of rows in each table in LaborStatisticsDB.</span>\n",
                "\n",
                "  \n",
                "\n",
                "## <span style=\"font-size: 12pt; font-family: Montserrat, sans-serif; color: rgb(53, 74, 95); background-color: rgb(255, 255, 255); font-weight: 700; font-variant-east-asian: normal; vertical-align: baseline; white-space: pre-wrap;\">About the Dataset</span>\n",
                "\n",
                "<span style=\"font-size: 10pt; font-family: &quot;Times New Roman&quot;; color: rgb(102, 102, 102); background-color: rgb(255, 255, 255); font-variant-east-asian: normal; vertical-align: baseline; white-space: pre-wrap;\">This dataset comes directly from the Bureau of Labor Statistics’ Current Employment Survey (CES). Here are some things you need to know:</span>\n",
                "\n",
                "1. <span style=\"font-size: 10pt; background-color: rgb(255, 255, 255); font-variant-east-asian: normal; vertical-align: baseline; white-space: pre-wrap;\">The industry table contains an NAICS code. This is different from the industry code. NAICS stands for North American Industry Classification System.</span>\n",
                "    \n",
                "2. <span style=\"font-size: 10pt; background-color: rgb(255, 255, 255); font-variant-east-asian: normal; vertical-align: baseline; white-space: pre-wrap;\">Series ID is composed of multiple different codes. CES stands for Current Employment Survey, the name of the survey which collected the data. The industry code as specified by the BLS and the data type code as specified in the datatype table.</span>\n",
                "    \n",
                "\n",
                "  \n",
                "\n",
                "## <span style=\"font-size: 12pt; font-family: Montserrat, sans-serif; color: rgb(53, 74, 95); background-color: rgb(255, 255, 255); font-weight: 700; font-variant-east-asian: normal; vertical-align: baseline; white-space: pre-wrap;\">Set Up</span>\n",
                "\n",
                "<span style=\"font-size: 10pt; font-family: &quot;Times New Roman&quot;; color: rgb(102, 102, 102); background-color: rgb(255, 255, 255); font-variant-east-asian: normal; vertical-align: baseline; white-space: pre-wrap;\">To connect to the database, use the same connection info used during the SQL lessons.&nbsp;</span> \n",
                "\n",
                "<span style=\"font-size: 10pt; font-family: &quot;Times New Roman&quot;; color: rgb(102, 102, 102); background-color: rgb(255, 255, 255); font-variant-east-asian: normal; vertical-align: baseline; white-space: pre-wrap;\">For the assignment, we will be using the LaborStatisticsDB database.</span>\n",
                "\n",
                "  \n",
                "\n",
                "## <span style=\"font-size: 12pt; font-family: Montserrat, sans-serif; color: rgb(53, 74, 95); background-color: rgb(255, 255, 255); font-weight: 700; font-variant-east-asian: normal; vertical-align: baseline; white-space: pre-wrap;\">Database Exploration</span>\n",
                "\n",
                "<span style=\"font-size: 10pt; font-family: &quot;Times New Roman&quot;; color: rgb(102, 102, 102); background-color: rgb(255, 255, 255); font-variant-east-asian: normal; vertical-align: baseline; white-space: pre-wrap;\">To start with, let’s get to know the database further.</span>\n",
                "\n",
                "1. <span style=\"background-color: rgb(255, 255, 255); color: rgb(102, 102, 102); font-family: &quot;Times New Roman&quot;; font-size: 10pt; white-space: pre-wrap;\">Use this space to make note of each table in the database, the columns within each table, each column’s data type, and how the tables are connected. You can write this down or draw a diagram. Whatever method helps you get an understanding of what is going on with LaborStatisticsDB.</span>"
            ],
            "metadata": {
                "azdata_cell_guid": "28ea70c5-f0be-4197-b6c0-ade22886a708"
            },
            "attachments": {}
        },
        {
            "cell_type": "markdown",
            "source": [
                "Diagram of the Database Tables:  [Tables Diagram](https:\\github.com\\tshililoa\\Assignment3_9to5\\blob\\main\\Labor_Statistics_DB_Tables_Diagram.pdf)"
            ],
            "metadata": {
                "azdata_cell_guid": "aeae906c-752c-49d3-b482-3ed6a4f54b6e"
            },
            "attachments": {}
        },
        {
            "cell_type": "code",
            "source": [
                "--- File name --Labor_Statistics_DB_Tables_Diagram.pdf"
            ],
            "metadata": {
                "azdata_cell_guid": "dbf3633e-8503-49e6-b128-cf010d1558cf",
                "language": "sql",
                "tags": []
            },
            "outputs": [],
            "execution_count": null
        },
        {
            "cell_type": "markdown",
            "source": [
                "2. <span style=\"background-color: rgb(255, 255, 255); color: rgb(102, 102, 102); font-family: Arvo, serif; font-size: 10pt; white-space: pre-wrap;\">What is the datatype for women employees?</span>"
            ],
            "metadata": {
                "azdata_cell_guid": "01b111b7-baf1-4617-88bc-cd442826c9c9"
            },
            "attachments": {}
        },
        {
            "cell_type": "code",
            "source": [
                "SELECT  distinct  d.data_type_text\r\n",
                "FROM  LaborStatisticsDB.dbo.series as s, LaborStatisticsDB.dbo.datatype as d\r\n",
                "WHERE d.data_type_code = s.data_type_code\r\n",
                "and s.series_title = 'Women employees';\r\n",
                ""
            ],
            "metadata": {
                "azdata_cell_guid": "02fa547c-0bb7-4a40-81c2-f5c05154df04",
                "tags": [],
                "language": "sql"
            },
            "outputs": [
                {
                    "output_type": "display_data",
                    "data": {
                        "text/html": "(1 row affected)"
                    },
                    "metadata": {}
                },
                {
                    "output_type": "display_data",
                    "data": {
                        "text/html": "Total execution time: 00:00:00.193"
                    },
                    "metadata": {}
                },
                {
                    "output_type": "execute_result",
                    "metadata": {},
                    "execution_count": 1,
                    "data": {
                        "application/vnd.dataresource+json": {
                            "schema": {
                                "fields": [
                                    {
                                        "name": "data_type_text"
                                    }
                                ]
                            },
                            "data": [
                                {
                                    "0": "WOMEN EMPLOYEES"
                                }
                            ]
                        },
                        "text/html": [
                            "<table>",
                            "<tr><th>data_type_text</th></tr>",
                            "<tr><td>WOMEN EMPLOYEES</td></tr>",
                            "</table>"
                        ]
                    }
                }
            ],
            "execution_count": 1
        },
        {
            "cell_type": "markdown",
            "source": [
                "3. <span style=\"background-color: rgb(255, 255, 255); font-size: 10pt; white-space: pre-wrap; color: rgb(102, 102, 102); font-family: Arvo, serif;\">What is the series id for&nbsp; women employees in the commercial banking industry in the financial activities supersector?</span>"
            ],
            "metadata": {
                "azdata_cell_guid": "325f85cc-9545-47b3-b975-3aab6278e4ea"
            },
            "attachments": {}
        },
        {
            "cell_type": "code",
            "source": [
                "SELECT series_id\r\n",
                "FROM LaborStatisticsDB.dbo.series AS s, LaborStatisticsDB.dbo.supersector AS sp , LaborStatisticsDB.dbo.datatype AS d, LaborStatisticsDB.dbo.industry AS i \r\n",
                "WHERE s.supersector_code= sp.supersector_code \r\n",
                "AND s.data_type_code = d.data_type_code\r\n",
                "AND i.industry_code = s.industry_code\r\n",
                "AND sp.supersector_name LIKE '%Financial activities%'\r\n",
                "AND d.data_type_text = 'WOMEN EMPLOYEES'\r\n",
                "AND i.industry_name= 'Commercial banking'; \r\n",
                ""
            ],
            "metadata": {
                "azdata_cell_guid": "1315af1f-45f8-457d-8bbe-8e9f46303fca",
                "language": "sql",
                "tags": []
            },
            "outputs": [
                {
                    "output_type": "display_data",
                    "data": {
                        "text/html": "(2 rows affected)"
                    },
                    "metadata": {}
                },
                {
                    "output_type": "display_data",
                    "data": {
                        "text/html": "Total execution time: 00:00:00.118"
                    },
                    "metadata": {}
                },
                {
                    "output_type": "execute_result",
                    "metadata": {},
                    "execution_count": 3,
                    "data": {
                        "application/vnd.dataresource+json": {
                            "schema": {
                                "fields": [
                                    {
                                        "name": "series_id"
                                    }
                                ]
                            },
                            "data": [
                                {
                                    "0": "CES5552211010"
                                },
                                {
                                    "0": "CEU5552211010"
                                }
                            ]
                        },
                        "text/html": [
                            "<table>",
                            "<tr><th>series_id</th></tr>",
                            "<tr><td>CES5552211010</td></tr>",
                            "<tr><td>CEU5552211010</td></tr>",
                            "</table>"
                        ]
                    }
                }
            ],
            "execution_count": 3
        },
        {
            "cell_type": "markdown",
            "source": [
                "## <span style=\"font-size: 12pt; font-family: Montserrat, sans-serif; color: rgb(53, 74, 95); background-color: rgb(255, 255, 255); font-weight: 700; font-variant-numeric: normal; font-variant-east-asian: normal; vertical-align: baseline; white-space: pre-wrap;\">Join in on the Fun</span>\n",
                "\n",
                "<span style=\"font-size: 10pt; font-family: Arvo, serif; color: rgb(102, 102, 102); background-color: rgb(255, 255, 255); font-variant-numeric: normal; font-variant-east-asian: normal; vertical-align: baseline; white-space: pre-wrap;\">Time to start joining! You can choose the type of join you use, just make sure to make a&nbsp; note!</span>\n",
                "\n",
                "1. <span style=\"background-color: rgb(255, 255, 255); font-size: 10pt; white-space: pre-wrap; color: rgb(102, 102, 102); font-family: Arvo, serif;\">Join&nbsp; annual_2016 with series on series_id. We only want the data in the annual_2016 table to be included in the result.</span>"
            ],
            "metadata": {
                "azdata_cell_guid": "ec1dfc63-ad41-4349-8c26-1d326ace8c6c"
            },
            "attachments": {}
        },
        {
            "cell_type": "code",
            "source": [
                "--using LEFT JOIN\r\n",
                "-- only showing top 10 for ease of viewing\r\n",
                "\r\n",
                "SELECT TOP 10 a.*\r\n",
                "FROM LaborStatisticsDB.dbo.annual_2016 AS a\r\n",
                "LEFT JOIN\r\n",
                "LaborStatisticsDB.dbo.series AS s\r\n",
                "ON a.series_id = s.series_id;"
            ],
            "metadata": {
                "azdata_cell_guid": "cf90f0b4-c482-4fbb-ac17-d2244881caab",
                "language": "sql",
                "tags": []
            },
            "outputs": [
                {
                    "output_type": "display_data",
                    "data": {
                        "text/html": "(10 rows affected)"
                    },
                    "metadata": {}
                },
                {
                    "output_type": "display_data",
                    "data": {
                        "text/html": "Total execution time: 00:00:00.331"
                    },
                    "metadata": {}
                },
                {
                    "output_type": "execute_result",
                    "metadata": {},
                    "execution_count": 41,
                    "data": {
                        "application/vnd.dataresource+json": {
                            "schema": {
                                "fields": [
                                    {
                                        "name": "id"
                                    },
                                    {
                                        "name": "series_id"
                                    },
                                    {
                                        "name": "year"
                                    },
                                    {
                                        "name": "period"
                                    },
                                    {
                                        "name": "value"
                                    },
                                    {
                                        "name": "footnote_codes"
                                    },
                                    {
                                        "name": "original_file"
                                    }
                                ]
                            },
                            "data": [
                                {
                                    "0": "0",
                                    "1": "CEU5500000007",
                                    "2": "2016",
                                    "3": "M13",
                                    "4": "36.9",
                                    "5": "NULL",
                                    "6": "ce.data.55c.FinancialActivities.ProductionEmployeeHoursAndEarnings.csv"
                                },
                                {
                                    "0": "1",
                                    "1": "CEU5500000008",
                                    "2": "2016",
                                    "3": "M13",
                                    "4": "26.11",
                                    "5": "NULL",
                                    "6": "ce.data.55c.FinancialActivities.ProductionEmployeeHoursAndEarnings.csv"
                                },
                                {
                                    "0": "2",
                                    "1": "CEU5500000030",
                                    "2": "2016",
                                    "3": "M13",
                                    "4": "962.73",
                                    "5": "NULL",
                                    "6": "ce.data.55c.FinancialActivities.ProductionEmployeeHoursAndEarnings.csv"
                                },
                                {
                                    "0": "3",
                                    "1": "CEU5500000031",
                                    "2": "2016",
                                    "3": "M13",
                                    "4": "411.29",
                                    "5": "NULL",
                                    "6": "ce.data.55c.FinancialActivities.ProductionEmployeeHoursAndEarnings.csv"
                                },
                                {
                                    "0": "4",
                                    "1": "CEU5500000032",
                                    "2": "2016",
                                    "3": "M13",
                                    "4": "11.15",
                                    "5": "NULL",
                                    "6": "ce.data.55c.FinancialActivities.ProductionEmployeeHoursAndEarnings.csv"
                                },
                                {
                                    "0": "5",
                                    "1": "CEU5500000034",
                                    "2": "2016",
                                    "3": "M13",
                                    "4": "111.6",
                                    "5": "NULL",
                                    "6": "ce.data.55c.FinancialActivities.ProductionEmployeeHoursAndEarnings.csv"
                                },
                                {
                                    "0": "6",
                                    "1": "CEU5500000035",
                                    "2": "2016",
                                    "3": "M13",
                                    "4": "179.2",
                                    "5": "NULL",
                                    "6": "ce.data.55c.FinancialActivities.ProductionEmployeeHoursAndEarnings.csv"
                                },
                                {
                                    "0": "7",
                                    "1": "CEU5500000081",
                                    "2": "2016",
                                    "3": "M13",
                                    "4": "236997",
                                    "5": "NULL",
                                    "6": "ce.data.55c.FinancialActivities.ProductionEmployeeHoursAndEarnings.csv"
                                },
                                {
                                    "0": "8",
                                    "1": "CEU5500000082",
                                    "2": "2016",
                                    "3": "M13",
                                    "4": "6189003",
                                    "5": "NULL",
                                    "6": "ce.data.55c.FinancialActivities.ProductionEmployeeHoursAndEarnings.csv"
                                },
                                {
                                    "0": "9",
                                    "1": "CEU5552200007",
                                    "2": "2016",
                                    "3": "M13",
                                    "4": "37.3",
                                    "5": "NULL",
                                    "6": "ce.data.55c.FinancialActivities.ProductionEmployeeHoursAndEarnings.csv"
                                }
                            ]
                        },
                        "text/html": [
                            "<table>",
                            "<tr><th>id</th><th>series_id</th><th>year</th><th>period</th><th>value</th><th>footnote_codes</th><th>original_file</th></tr>",
                            "<tr><td>0</td><td>CEU5500000007</td><td>2016</td><td>M13</td><td>36.9</td><td>NULL</td><td>ce.data.55c.FinancialActivities.ProductionEmployeeHoursAndEarnings.csv</td></tr>",
                            "<tr><td>1</td><td>CEU5500000008</td><td>2016</td><td>M13</td><td>26.11</td><td>NULL</td><td>ce.data.55c.FinancialActivities.ProductionEmployeeHoursAndEarnings.csv</td></tr>",
                            "<tr><td>2</td><td>CEU5500000030</td><td>2016</td><td>M13</td><td>962.73</td><td>NULL</td><td>ce.data.55c.FinancialActivities.ProductionEmployeeHoursAndEarnings.csv</td></tr>",
                            "<tr><td>3</td><td>CEU5500000031</td><td>2016</td><td>M13</td><td>411.29</td><td>NULL</td><td>ce.data.55c.FinancialActivities.ProductionEmployeeHoursAndEarnings.csv</td></tr>",
                            "<tr><td>4</td><td>CEU5500000032</td><td>2016</td><td>M13</td><td>11.15</td><td>NULL</td><td>ce.data.55c.FinancialActivities.ProductionEmployeeHoursAndEarnings.csv</td></tr>",
                            "<tr><td>5</td><td>CEU5500000034</td><td>2016</td><td>M13</td><td>111.6</td><td>NULL</td><td>ce.data.55c.FinancialActivities.ProductionEmployeeHoursAndEarnings.csv</td></tr>",
                            "<tr><td>6</td><td>CEU5500000035</td><td>2016</td><td>M13</td><td>179.2</td><td>NULL</td><td>ce.data.55c.FinancialActivities.ProductionEmployeeHoursAndEarnings.csv</td></tr>",
                            "<tr><td>7</td><td>CEU5500000081</td><td>2016</td><td>M13</td><td>236997</td><td>NULL</td><td>ce.data.55c.FinancialActivities.ProductionEmployeeHoursAndEarnings.csv</td></tr>",
                            "<tr><td>8</td><td>CEU5500000082</td><td>2016</td><td>M13</td><td>6189003</td><td>NULL</td><td>ce.data.55c.FinancialActivities.ProductionEmployeeHoursAndEarnings.csv</td></tr>",
                            "<tr><td>9</td><td>CEU5552200007</td><td>2016</td><td>M13</td><td>37.3</td><td>NULL</td><td>ce.data.55c.FinancialActivities.ProductionEmployeeHoursAndEarnings.csv</td></tr>",
                            "</table>"
                        ]
                    }
                }
            ],
            "execution_count": 41
        },
        {
            "cell_type": "markdown",
            "source": [
                "2. <span style=\"background-color: rgb(255, 255, 255); font-size: 10pt; white-space: pre-wrap; color: rgb(102, 102, 102); font-family: Arvo, serif;\">Join series and datatype on data_type_code</span>"
            ],
            "metadata": {
                "azdata_cell_guid": "710b59ae-224b-4f9d-b1a4-4a6b89048bbb"
            },
            "attachments": {}
        },
        {
            "cell_type": "code",
            "source": [
                "-- using FULL JOIN\r\n",
                "-- only showing top 10 for ease of viewing \r\n",
                "\r\n",
                "SELECT TOP 10*\r\n",
                "FROM  LaborStatisticsDB.dbo.series AS s\r\n",
                "FULL JOIN \r\n",
                "LaborStatisticsDB.dbo.datatype AS d\r\n",
                "ON s.data_type_code = d.data_type_code;"
            ],
            "metadata": {
                "azdata_cell_guid": "fca61371-c9b5-4823-a4b4-34c1279ece3e",
                "language": "sql",
                "tags": []
            },
            "outputs": [
                {
                    "output_type": "display_data",
                    "data": {
                        "text/html": "(10 rows affected)"
                    },
                    "metadata": {}
                },
                {
                    "output_type": "display_data",
                    "data": {
                        "text/html": "Total execution time: 00:00:00.097"
                    },
                    "metadata": {}
                },
                {
                    "output_type": "execute_result",
                    "metadata": {},
                    "execution_count": 40,
                    "data": {
                        "application/vnd.dataresource+json": {
                            "schema": {
                                "fields": [
                                    {
                                        "name": "series_id"
                                    },
                                    {
                                        "name": "supersector_code"
                                    },
                                    {
                                        "name": "industry_code"
                                    },
                                    {
                                        "name": "data_type_code"
                                    },
                                    {
                                        "name": "seasonal"
                                    },
                                    {
                                        "name": "series_title"
                                    },
                                    {
                                        "name": "data_type_code"
                                    },
                                    {
                                        "name": "data_type_text"
                                    }
                                ]
                            },
                            "data": [
                                {
                                    "0": "CES0000000001",
                                    "1": "0",
                                    "2": "00000000",
                                    "3": "1",
                                    "4": "S",
                                    "5": "All employees",
                                    "6": "1",
                                    "7": "ALL EMPLOYEES"
                                },
                                {
                                    "0": "CES0000000010",
                                    "1": "0",
                                    "2": "00000000",
                                    "3": "10",
                                    "4": "S",
                                    "5": "Women employees",
                                    "6": "10",
                                    "7": "WOMEN EMPLOYEES"
                                },
                                {
                                    "0": "CES0000000025",
                                    "1": "0",
                                    "2": "00000000",
                                    "3": "25",
                                    "4": "S",
                                    "5": "All employees",
                                    "6": "25",
                                    "7": "ALL EMPLOYEES"
                                },
                                {
                                    "0": "CES0000000026",
                                    "1": "0",
                                    "2": "00000000",
                                    "3": "26",
                                    "4": "S",
                                    "5": "All employees",
                                    "6": "26",
                                    "7": "ALL EMPLOYEES"
                                },
                                {
                                    "0": "CES0500000001",
                                    "1": "5",
                                    "2": "05000000",
                                    "3": "1",
                                    "4": "S",
                                    "5": "All employees",
                                    "6": "1",
                                    "7": "ALL EMPLOYEES"
                                },
                                {
                                    "0": "CES0500000002",
                                    "1": "5",
                                    "2": "05000000",
                                    "3": "2",
                                    "4": "S",
                                    "5": "Average weekly hours of all employees",
                                    "6": "2",
                                    "7": "AVERAGE WEEKLY HOURS OF ALL EMPLOYEES"
                                },
                                {
                                    "0": "CES0500000003",
                                    "1": "5",
                                    "2": "05000000",
                                    "3": "3",
                                    "4": "S",
                                    "5": "Average hourly earnings of all employees",
                                    "6": "3",
                                    "7": "AVERAGE HOURLY EARNINGS OF ALL EMPLOYEES"
                                },
                                {
                                    "0": "CES0500000006",
                                    "1": "5",
                                    "2": "05000000",
                                    "3": "6",
                                    "4": "S",
                                    "5": "Production and nonsupervisory employees",
                                    "6": "6",
                                    "7": "PRODUCTION AND NONSUPERVISORY EMPLOYEES"
                                },
                                {
                                    "0": "CES0500000007",
                                    "1": "5",
                                    "2": "05000000",
                                    "3": "7",
                                    "4": "S",
                                    "5": "Average weekly hours of production and nonsupervisory employees",
                                    "6": "7",
                                    "7": "AVERAGE WEEKLY HOURS OF PRODUCTION AND NONSUPERVISORY EMPLOYEES"
                                },
                                {
                                    "0": "CES0500000008",
                                    "1": "5",
                                    "2": "05000000",
                                    "3": "8",
                                    "4": "S",
                                    "5": "Average hourly earnings of production and nonsupervisory employees",
                                    "6": "8",
                                    "7": "AVERAGE HOURLY EARNINGS OF PRODUCTION AND NONSUPERVISORY EMPLOYEES"
                                }
                            ]
                        },
                        "text/html": [
                            "<table>",
                            "<tr><th>series_id</th><th>supersector_code</th><th>industry_code</th><th>data_type_code</th><th>seasonal</th><th>series_title</th><th>data_type_code</th><th>data_type_text</th></tr>",
                            "<tr><td>CES0000000001</td><td>0</td><td>00000000</td><td>1</td><td>S</td><td>All employees</td><td>1</td><td>ALL EMPLOYEES</td></tr>",
                            "<tr><td>CES0000000010</td><td>0</td><td>00000000</td><td>10</td><td>S</td><td>Women employees</td><td>10</td><td>WOMEN EMPLOYEES</td></tr>",
                            "<tr><td>CES0000000025</td><td>0</td><td>00000000</td><td>25</td><td>S</td><td>All employees</td><td>25</td><td>ALL EMPLOYEES</td></tr>",
                            "<tr><td>CES0000000026</td><td>0</td><td>00000000</td><td>26</td><td>S</td><td>All employees</td><td>26</td><td>ALL EMPLOYEES</td></tr>",
                            "<tr><td>CES0500000001</td><td>5</td><td>05000000</td><td>1</td><td>S</td><td>All employees</td><td>1</td><td>ALL EMPLOYEES</td></tr>",
                            "<tr><td>CES0500000002</td><td>5</td><td>05000000</td><td>2</td><td>S</td><td>Average weekly hours of all employees</td><td>2</td><td>AVERAGE WEEKLY HOURS OF ALL EMPLOYEES</td></tr>",
                            "<tr><td>CES0500000003</td><td>5</td><td>05000000</td><td>3</td><td>S</td><td>Average hourly earnings of all employees</td><td>3</td><td>AVERAGE HOURLY EARNINGS OF ALL EMPLOYEES</td></tr>",
                            "<tr><td>CES0500000006</td><td>5</td><td>05000000</td><td>6</td><td>S</td><td>Production and nonsupervisory employees</td><td>6</td><td>PRODUCTION AND NONSUPERVISORY EMPLOYEES</td></tr>",
                            "<tr><td>CES0500000007</td><td>5</td><td>05000000</td><td>7</td><td>S</td><td>Average weekly hours of production and nonsupervisory employees</td><td>7</td><td>AVERAGE WEEKLY HOURS OF PRODUCTION AND NONSUPERVISORY EMPLOYEES</td></tr>",
                            "<tr><td>CES0500000008</td><td>5</td><td>05000000</td><td>8</td><td>S</td><td>Average hourly earnings of production and nonsupervisory employees</td><td>8</td><td>AVERAGE HOURLY EARNINGS OF PRODUCTION AND NONSUPERVISORY EMPLOYEES</td></tr>",
                            "</table>"
                        ]
                    }
                }
            ],
            "execution_count": 40
        },
        {
            "cell_type": "markdown",
            "source": [
                "3. <span style=\"background-color: rgb(255, 255, 255); font-size: 10pt; white-space: pre-wrap; color: rgb(102, 102, 102); font-family: Arvo, serif;\">Join series and industry on industry_code</span>"
            ],
            "metadata": {
                "azdata_cell_guid": "78ac8ba4-2a6a-426f-af30-6b56d9d09054"
            },
            "attachments": {}
        },
        {
            "cell_type": "code",
            "source": [
                "--Using INNER JOIN \r\n",
                "-- only showing top 10 for ease of reading \r\n",
                "SELECT TOP 10*\r\n",
                "FROM  LaborStatisticsDB.dbo.series AS s\r\n",
                "INNER JOIN \r\n",
                "LaborStatisticsDB.dbo.industry AS i\r\n",
                "ON s.industry_code = i.industry_code;"
            ],
            "metadata": {
                "azdata_cell_guid": "ac022766-e280-4d95-8362-1f2b18773662",
                "language": "sql",
                "tags": []
            },
            "outputs": [
                {
                    "output_type": "display_data",
                    "data": {
                        "text/html": "(10 rows affected)"
                    },
                    "metadata": {}
                },
                {
                    "output_type": "display_data",
                    "data": {
                        "text/html": "Total execution time: 00:00:00.157"
                    },
                    "metadata": {}
                },
                {
                    "output_type": "execute_result",
                    "metadata": {},
                    "execution_count": 39,
                    "data": {
                        "application/vnd.dataresource+json": {
                            "schema": {
                                "fields": [
                                    {
                                        "name": "series_id"
                                    },
                                    {
                                        "name": "supersector_code"
                                    },
                                    {
                                        "name": "industry_code"
                                    },
                                    {
                                        "name": "data_type_code"
                                    },
                                    {
                                        "name": "seasonal"
                                    },
                                    {
                                        "name": "series_title"
                                    },
                                    {
                                        "name": "id"
                                    },
                                    {
                                        "name": "industry_code"
                                    },
                                    {
                                        "name": "naics_code"
                                    },
                                    {
                                        "name": "publishing_status"
                                    },
                                    {
                                        "name": "industry_name"
                                    },
                                    {
                                        "name": "display_level"
                                    },
                                    {
                                        "name": "selectable"
                                    },
                                    {
                                        "name": "sort_sequence"
                                    }
                                ]
                            },
                            "data": [
                                {
                                    "0": "CES0000000001",
                                    "1": "0",
                                    "2": "00000000",
                                    "3": "1",
                                    "4": "S",
                                    "5": "All employees",
                                    "6": "0",
                                    "7": "0",
                                    "8": "-",
                                    "9": "B",
                                    "10": "Total nonfarm",
                                    "11": "0",
                                    "12": "T",
                                    "13": "1"
                                },
                                {
                                    "0": "CES0000000010",
                                    "1": "0",
                                    "2": "00000000",
                                    "3": "10",
                                    "4": "S",
                                    "5": "Women employees",
                                    "6": "0",
                                    "7": "0",
                                    "8": "-",
                                    "9": "B",
                                    "10": "Total nonfarm",
                                    "11": "0",
                                    "12": "T",
                                    "13": "1"
                                },
                                {
                                    "0": "CES0000000025",
                                    "1": "0",
                                    "2": "00000000",
                                    "3": "25",
                                    "4": "S",
                                    "5": "All employees",
                                    "6": "0",
                                    "7": "0",
                                    "8": "-",
                                    "9": "B",
                                    "10": "Total nonfarm",
                                    "11": "0",
                                    "12": "T",
                                    "13": "1"
                                },
                                {
                                    "0": "CES0000000026",
                                    "1": "0",
                                    "2": "00000000",
                                    "3": "26",
                                    "4": "S",
                                    "5": "All employees",
                                    "6": "0",
                                    "7": "0",
                                    "8": "-",
                                    "9": "B",
                                    "10": "Total nonfarm",
                                    "11": "0",
                                    "12": "T",
                                    "13": "1"
                                },
                                {
                                    "0": "CES0500000001",
                                    "1": "5",
                                    "2": "05000000",
                                    "3": "1",
                                    "4": "S",
                                    "5": "All employees",
                                    "6": "1",
                                    "7": "5000000",
                                    "8": "-",
                                    "9": "A",
                                    "10": "Total private",
                                    "11": "1",
                                    "12": "T",
                                    "13": "2"
                                },
                                {
                                    "0": "CES0500000002",
                                    "1": "5",
                                    "2": "05000000",
                                    "3": "2",
                                    "4": "S",
                                    "5": "Average weekly hours of all employees",
                                    "6": "1",
                                    "7": "5000000",
                                    "8": "-",
                                    "9": "A",
                                    "10": "Total private",
                                    "11": "1",
                                    "12": "T",
                                    "13": "2"
                                },
                                {
                                    "0": "CES0500000003",
                                    "1": "5",
                                    "2": "05000000",
                                    "3": "3",
                                    "4": "S",
                                    "5": "Average hourly earnings of all employees",
                                    "6": "1",
                                    "7": "5000000",
                                    "8": "-",
                                    "9": "A",
                                    "10": "Total private",
                                    "11": "1",
                                    "12": "T",
                                    "13": "2"
                                },
                                {
                                    "0": "CES0500000006",
                                    "1": "5",
                                    "2": "05000000",
                                    "3": "6",
                                    "4": "S",
                                    "5": "Production and nonsupervisory employees",
                                    "6": "1",
                                    "7": "5000000",
                                    "8": "-",
                                    "9": "A",
                                    "10": "Total private",
                                    "11": "1",
                                    "12": "T",
                                    "13": "2"
                                },
                                {
                                    "0": "CES0500000007",
                                    "1": "5",
                                    "2": "05000000",
                                    "3": "7",
                                    "4": "S",
                                    "5": "Average weekly hours of production and nonsupervisory employees",
                                    "6": "1",
                                    "7": "5000000",
                                    "8": "-",
                                    "9": "A",
                                    "10": "Total private",
                                    "11": "1",
                                    "12": "T",
                                    "13": "2"
                                },
                                {
                                    "0": "CES0500000008",
                                    "1": "5",
                                    "2": "05000000",
                                    "3": "8",
                                    "4": "S",
                                    "5": "Average hourly earnings of production and nonsupervisory employees",
                                    "6": "1",
                                    "7": "5000000",
                                    "8": "-",
                                    "9": "A",
                                    "10": "Total private",
                                    "11": "1",
                                    "12": "T",
                                    "13": "2"
                                }
                            ]
                        },
                        "text/html": [
                            "<table>",
                            "<tr><th>series_id</th><th>supersector_code</th><th>industry_code</th><th>data_type_code</th><th>seasonal</th><th>series_title</th><th>id</th><th>industry_code</th><th>naics_code</th><th>publishing_status</th><th>industry_name</th><th>display_level</th><th>selectable</th><th>sort_sequence</th></tr>",
                            "<tr><td>CES0000000001</td><td>0</td><td>00000000</td><td>1</td><td>S</td><td>All employees</td><td>0</td><td>0</td><td>-</td><td>B</td><td>Total nonfarm</td><td>0</td><td>T</td><td>1</td></tr>",
                            "<tr><td>CES0000000010</td><td>0</td><td>00000000</td><td>10</td><td>S</td><td>Women employees</td><td>0</td><td>0</td><td>-</td><td>B</td><td>Total nonfarm</td><td>0</td><td>T</td><td>1</td></tr>",
                            "<tr><td>CES0000000025</td><td>0</td><td>00000000</td><td>25</td><td>S</td><td>All employees</td><td>0</td><td>0</td><td>-</td><td>B</td><td>Total nonfarm</td><td>0</td><td>T</td><td>1</td></tr>",
                            "<tr><td>CES0000000026</td><td>0</td><td>00000000</td><td>26</td><td>S</td><td>All employees</td><td>0</td><td>0</td><td>-</td><td>B</td><td>Total nonfarm</td><td>0</td><td>T</td><td>1</td></tr>",
                            "<tr><td>CES0500000001</td><td>5</td><td>05000000</td><td>1</td><td>S</td><td>All employees</td><td>1</td><td>5000000</td><td>-</td><td>A</td><td>Total private</td><td>1</td><td>T</td><td>2</td></tr>",
                            "<tr><td>CES0500000002</td><td>5</td><td>05000000</td><td>2</td><td>S</td><td>Average weekly hours of all employees</td><td>1</td><td>5000000</td><td>-</td><td>A</td><td>Total private</td><td>1</td><td>T</td><td>2</td></tr>",
                            "<tr><td>CES0500000003</td><td>5</td><td>05000000</td><td>3</td><td>S</td><td>Average hourly earnings of all employees</td><td>1</td><td>5000000</td><td>-</td><td>A</td><td>Total private</td><td>1</td><td>T</td><td>2</td></tr>",
                            "<tr><td>CES0500000006</td><td>5</td><td>05000000</td><td>6</td><td>S</td><td>Production and nonsupervisory employees</td><td>1</td><td>5000000</td><td>-</td><td>A</td><td>Total private</td><td>1</td><td>T</td><td>2</td></tr>",
                            "<tr><td>CES0500000007</td><td>5</td><td>05000000</td><td>7</td><td>S</td><td>Average weekly hours of production and nonsupervisory employees</td><td>1</td><td>5000000</td><td>-</td><td>A</td><td>Total private</td><td>1</td><td>T</td><td>2</td></tr>",
                            "<tr><td>CES0500000008</td><td>5</td><td>05000000</td><td>8</td><td>S</td><td>Average hourly earnings of production and nonsupervisory employees</td><td>1</td><td>5000000</td><td>-</td><td>A</td><td>Total private</td><td>1</td><td>T</td><td>2</td></tr>",
                            "</table>"
                        ]
                    }
                }
            ],
            "execution_count": 39
        },
        {
            "cell_type": "markdown",
            "source": [
                "## <span style=\"font-size: 12pt; font-family: Montserrat, sans-serif; color: rgb(53, 74, 95); background-color: rgb(255, 255, 255); font-weight: 700; font-variant-numeric: normal; font-variant-east-asian: normal; vertical-align: baseline; white-space: pre-wrap;\">Aggregate Your Friends and Code some SQL</span>\n",
                "\n",
                "<span style=\"font-size: 10pt; font-family: Arvo, serif; color: rgb(102, 102, 102); background-color: rgb(255, 255, 255); font-variant-numeric: normal; font-variant-east-asian: normal; vertical-align: baseline; white-space: pre-wrap;\">Put together the following:</span>\n",
                "\n",
                "1. <span style=\"background-color: rgb(255, 255, 255); font-size: 10pt; white-space: pre-wrap; color: rgb(102, 102, 102); font-family: Arvo, serif;\">How many employees were reported in 2016 in all industries? Round to the nearest whole number.&nbsp; No chopping people into little bits, please.</span>"
            ],
            "metadata": {
                "azdata_cell_guid": "f4290cc1-f824-4586-8850-59d926bf4460"
            },
            "attachments": {}
        },
        {
            "cell_type": "code",
            "source": [
                "select FORMAT(ROUND(SUM(an.value), 0, 0), '###,###,###', 'en-us') AS number_of_employees_2016\r\n",
                "FROM LaborStatisticsDB.dbo.annual_2016 AS an, LaborStatisticsDB.dbo.series AS s\r\n",
                "WHERE an.series_id= s.series_id\r\n",
                "AND s.series_title = 'All employees';\r\n",
                "\r\n",
                ""
            ],
            "metadata": {
                "azdata_cell_guid": "25099068-a629-4eb5-afca-ed3748c40605",
                "language": "sql",
                "tags": []
            },
            "outputs": [
                {
                    "output_type": "display_data",
                    "data": {
                        "text/html": "(1 row affected)"
                    },
                    "metadata": {}
                },
                {
                    "output_type": "display_data",
                    "data": {
                        "text/html": "Total execution time: 00:00:00.104"
                    },
                    "metadata": {}
                },
                {
                    "output_type": "execute_result",
                    "metadata": {},
                    "execution_count": 45,
                    "data": {
                        "application/vnd.dataresource+json": {
                            "schema": {
                                "fields": [
                                    {
                                        "name": "number_of_employees_2016"
                                    }
                                ]
                            },
                            "data": [
                                {
                                    "0": "2,340,612"
                                }
                            ]
                        },
                        "text/html": [
                            "<table>",
                            "<tr><th>number_of_employees_2016</th></tr>",
                            "<tr><td>2,340,612</td></tr>",
                            "</table>"
                        ]
                    }
                }
            ],
            "execution_count": 45
        },
        {
            "cell_type": "markdown",
            "source": [
                "2. <span style=\"background-color: rgb(255, 255, 255); font-size: 10pt; white-space: pre-wrap; color: rgb(102, 102, 102); font-family: Arvo, serif;\">How many women employees were reported in 2016 in all industries? Round to the nearest whole number.&nbsp;</span>"
            ],
            "metadata": {
                "azdata_cell_guid": "6358fab4-b933-4646-bef1-4be66dcd4317"
            },
            "attachments": {}
        },
        {
            "cell_type": "code",
            "source": [
                "select FORMAT(ROUND(SUM(an.value), 0, 0), '###,###,###', 'en-us') AS number_of_women_employees\r\n",
                "FROM LaborStatisticsDB.dbo.annual_2016 AS an, LaborStatisticsDB.dbo.series AS s\r\n",
                "WHERE an.series_id= s.series_id\r\n",
                "ANd s.series_title = 'Women employees';\r\n",
                ""
            ],
            "metadata": {
                "azdata_cell_guid": "7bb0bfb7-b9e3-4672-b354-7ca705bb0c3b",
                "language": "sql",
                "tags": []
            },
            "outputs": [
                {
                    "output_type": "display_data",
                    "data": {
                        "text/html": "(1 row affected)"
                    },
                    "metadata": {}
                },
                {
                    "output_type": "display_data",
                    "data": {
                        "text/html": "Total execution time: 00:00:00.115"
                    },
                    "metadata": {}
                },
                {
                    "output_type": "execute_result",
                    "metadata": {},
                    "execution_count": 46,
                    "data": {
                        "application/vnd.dataresource+json": {
                            "schema": {
                                "fields": [
                                    {
                                        "name": "number_of_women_employees"
                                    }
                                ]
                            },
                            "data": [
                                {
                                    "0": "1,125,490"
                                }
                            ]
                        },
                        "text/html": [
                            "<table>",
                            "<tr><th>number_of_women_employees</th></tr>",
                            "<tr><td>1,125,490</td></tr>",
                            "</table>"
                        ]
                    }
                }
            ],
            "execution_count": 46
        },
        {
            "cell_type": "markdown",
            "source": [
                "3. <span style=\"background-color: rgb(255, 255, 255); font-size: 10pt; white-space: pre-wrap; color: rgb(102, 102, 102); font-family: Arvo, serif;\">How many production/nonsupervisory employees were reported in 2016? Round to the nearest whole number.&nbsp;</span>"
            ],
            "metadata": {
                "azdata_cell_guid": "246ea683-2075-4337-878d-fbfdd49b2dd7"
            },
            "attachments": {}
        },
        {
            "cell_type": "code",
            "source": [
                "select FORMAT(ROUND(SUM(an.value), 0, 0), '###,###,###', 'en-us') AS number_of_employees\r\n",
                "FROM LaborStatisticsDB.dbo.annual_2016 AS an, LaborStatisticsDB.dbo.series AS s \r\n",
                "WHERE an.series_id= s.series_id\r\n",
                "ANd s.series_title = 'Production and nonsupervisory employees';"
            ],
            "metadata": {
                "azdata_cell_guid": "110f2591-069b-4bbe-87c7-2bcf76c3d36f",
                "language": "sql",
                "tags": []
            },
            "outputs": [
                {
                    "output_type": "display_data",
                    "data": {
                        "text/html": "(1 row affected)"
                    },
                    "metadata": {}
                },
                {
                    "output_type": "display_data",
                    "data": {
                        "text/html": "Total execution time: 00:00:00.099"
                    },
                    "metadata": {}
                },
                {
                    "output_type": "execute_result",
                    "metadata": {},
                    "execution_count": 44,
                    "data": {
                        "application/vnd.dataresource+json": {
                            "schema": {
                                "fields": [
                                    {
                                        "name": "number_of_employees"
                                    }
                                ]
                            },
                            "data": [
                                {
                                    "0": "1,263,650"
                                }
                            ]
                        },
                        "text/html": [
                            "<table>",
                            "<tr><th>number_of_employees</th></tr>",
                            "<tr><td>1,263,650</td></tr>",
                            "</table>"
                        ]
                    }
                }
            ],
            "execution_count": 44
        },
        {
            "cell_type": "markdown",
            "source": [
                "4. <span style=\"background-color: rgb(255, 255, 255); font-size: 10pt; white-space: pre-wrap; color: rgb(102, 102, 102); font-family: Arvo, serif;\">In January 2017, what is the average weekly hours worked by production and nonsupervisory employees across all industries?</span>"
            ],
            "metadata": {
                "azdata_cell_guid": "9caa7f57-e39d-4b7a-b705-25f8fe29d60b"
            },
            "attachments": {}
        },
        {
            "cell_type": "code",
            "source": [
                "SELECT avg(jan2017.value) AS average_weekly_hours_worked\r\n",
                "FROM LaborStatisticsDB.dbo.january_2017 AS jan2017, LaborStatisticsDB.dbo.series AS s \r\n",
                "WHERE jan2017.series_id= s.series_id\r\n",
                "AND s.series_title = 'Average weekly hours of production and nonsupervisory employees';\r\n",
                ""
            ],
            "metadata": {
                "azdata_cell_guid": "9f07fa8a-4217-439a-a9cd-831240d4bc9e",
                "language": "sql",
                "tags": []
            },
            "outputs": [
                {
                    "output_type": "display_data",
                    "data": {
                        "text/html": "(1 row affected)"
                    },
                    "metadata": {}
                },
                {
                    "output_type": "display_data",
                    "data": {
                        "text/html": "Total execution time: 00:00:00.155"
                    },
                    "metadata": {}
                },
                {
                    "output_type": "execute_result",
                    "metadata": {},
                    "execution_count": 47,
                    "data": {
                        "application/vnd.dataresource+json": {
                            "schema": {
                                "fields": [
                                    {
                                        "name": "average_weekly_hours_worked"
                                    }
                                ]
                            },
                            "data": [
                                {
                                    "0": "36.05862068965521"
                                }
                            ]
                        },
                        "text/html": [
                            "<table>",
                            "<tr><th>average_weekly_hours_worked</th></tr>",
                            "<tr><td>36.05862068965521</td></tr>",
                            "</table>"
                        ]
                    }
                }
            ],
            "execution_count": 47
        },
        {
            "cell_type": "markdown",
            "source": [
                "5. <span style=\"background-color: rgb(255, 255, 255); font-size: 10pt; white-space: pre-wrap; color: rgb(102, 102, 102); font-family: Arvo, serif;\">What is the total weekly payroll for production and nonsupervisory employees across all industries in January 2017? Round to the nearest penny, please.</span>"
            ],
            "metadata": {
                "azdata_cell_guid": "9c48ff2e-a6eb-4f02-8df2-988e219fbc00"
            },
            "attachments": {}
        },
        {
            "cell_type": "code",
            "source": [
                "SELECT FORMAT(ROUND(SUM(jan2017.value), 2 ,0), 'C', 'en-us') AS total_weekly_payroll\r\n",
                "FROM LaborStatisticsDB.dbo.series AS s, LaborStatisticsDB.dbo.january_2017 AS jan2017\r\n",
                "WHERE s.series_id = jan2017.series_id\r\n",
                "AND s.series_title = 'Aggregate weekly payrolls of production and nonsupervisory employees';\r\n",
                ""
            ],
            "metadata": {
                "azdata_cell_guid": "c565641b-f1fa-4dbb-9320-24adfda97ca5",
                "language": "sql",
                "tags": []
            },
            "outputs": [
                {
                    "output_type": "display_data",
                    "data": {
                        "text/html": "(1 row affected)"
                    },
                    "metadata": {}
                },
                {
                    "output_type": "display_data",
                    "data": {
                        "text/html": "Total execution time: 00:00:00.110"
                    },
                    "metadata": {}
                },
                {
                    "output_type": "execute_result",
                    "metadata": {},
                    "execution_count": 70,
                    "data": {
                        "application/vnd.dataresource+json": {
                            "schema": {
                                "fields": [
                                    {
                                        "name": "total_weekly_payroll"
                                    }
                                ]
                            },
                            "data": [
                                {
                                    "0": "$1,838,753,220.00"
                                }
                            ]
                        },
                        "text/html": [
                            "<table>",
                            "<tr><th>total_weekly_payroll</th></tr>",
                            "<tr><td>$1,838,753,220.00</td></tr>",
                            "</table>"
                        ]
                    }
                }
            ],
            "execution_count": 70
        },
        {
            "cell_type": "markdown",
            "source": [
                "6. <span style=\"background-color: rgb(255, 255, 255); font-size: 10pt; white-space: pre-wrap; color: rgb(102, 102, 102); font-family: Arvo, serif;\">In January 2017, which industry was the average weekly hours worked by production and nonsupervisory employees the highest? Which industry was the lowest?</span>"
            ],
            "metadata": {
                "azdata_cell_guid": "862fd406-4fff-49bb-9d2b-232275a06405"
            },
            "attachments": {}
        },
        {
            "cell_type": "code",
            "source": [
                "-- industry with highest weekly average hours.\r\n",
                "\r\n",
                "SELECT DISTINCT i.industry_name  \r\n",
                "FROM LaborStatisticsDB.dbo.industry AS i, LaborStatisticsDB.dbo.series AS s, LaborStatisticsDB.dbo.january_2017 AS jan2017\r\n",
                "WHERE i.industry_code = s.industry_code\r\n",
                "AND s.series_id = jan2017.series_id \r\n",
                "AND s.series_title = 'Average weekly hours of production and nonsupervisory employees'\r\n",
                "AND jan2017.value = (SELECT MAX(jan_2017.value) \r\n",
                "                    FROM LaborStatisticsDB.dbo.january_2017 AS jan_2017, LaborStatisticsDB.dbo.series AS ss \r\n",
                "                    WHERE jan_2017.series_id= ss.series_id\r\n",
                "                    AND ss.series_title = 'Average weekly hours of production and nonsupervisory employees');\r\n",
                ""
            ],
            "metadata": {
                "azdata_cell_guid": "01e11050-5f2f-4d22-92e0-2b3024b80a5f",
                "language": "sql",
                "tags": []
            },
            "outputs": [
                {
                    "output_type": "display_data",
                    "data": {
                        "text/html": "(1 row affected)"
                    },
                    "metadata": {}
                },
                {
                    "output_type": "display_data",
                    "data": {
                        "text/html": "Total execution time: 00:00:00.105"
                    },
                    "metadata": {}
                },
                {
                    "output_type": "execute_result",
                    "metadata": {},
                    "execution_count": 58,
                    "data": {
                        "application/vnd.dataresource+json": {
                            "schema": {
                                "fields": [
                                    {
                                        "name": "industry_name"
                                    }
                                ]
                            },
                            "data": [
                                {
                                    "0": "Motor vehicle power train components"
                                }
                            ]
                        },
                        "text/html": [
                            "<table>",
                            "<tr><th>industry_name</th></tr>",
                            "<tr><td>Motor vehicle power train components</td></tr>",
                            "</table>"
                        ]
                    }
                }
            ],
            "execution_count": 58
        },
        {
            "cell_type": "code",
            "source": [
                "--Industry with lowest weekly average hours.\r\n",
                "\r\n",
                "SELECT DISTINCT i.industry_name  \r\n",
                "FROM LaborStatisticsDB.dbo.industry AS i, LaborStatisticsDB.dbo.series AS s, LaborStatisticsDB.dbo.january_2017 AS jan2017\r\n",
                "WHERE i.industry_code = s.industry_code\r\n",
                "AND s.series_id = jan2017.series_id \r\n",
                "AND s.series_title = 'Average weekly hours of production and nonsupervisory employees'\r\n",
                "AND jan2017.value = (SELECT MIN(jan_2017.value) \r\n",
                "                    FROM LaborStatisticsDB.dbo.january_2017 AS jan_2017, LaborStatisticsDB.dbo.series AS ss \r\n",
                "                    WHERE jan_2017.series_id= ss.series_id\r\n",
                "                    AND ss.series_title = 'Average weekly hours of production and nonsupervisory employees');\r\n",
                ""
            ],
            "metadata": {
                "language": "sql",
                "azdata_cell_guid": "b965eddf-aca8-4904-8279-0d71121933e7",
                "tags": []
            },
            "outputs": [
                {
                    "output_type": "display_data",
                    "data": {
                        "text/html": "(1 row affected)"
                    },
                    "metadata": {}
                },
                {
                    "output_type": "display_data",
                    "data": {
                        "text/html": "Total execution time: 00:00:00.115"
                    },
                    "metadata": {}
                },
                {
                    "output_type": "execute_result",
                    "metadata": {},
                    "execution_count": 57,
                    "data": {
                        "application/vnd.dataresource+json": {
                            "schema": {
                                "fields": [
                                    {
                                        "name": "industry_name"
                                    }
                                ]
                            },
                            "data": [
                                {
                                    "0": "Fitness and recreational sports centers"
                                }
                            ]
                        },
                        "text/html": [
                            "<table>",
                            "<tr><th>industry_name</th></tr>",
                            "<tr><td>Fitness and recreational sports centers</td></tr>",
                            "</table>"
                        ]
                    }
                }
            ],
            "execution_count": 57
        },
        {
            "cell_type": "markdown",
            "source": [
                "7. <span style=\"background-color: rgb(255, 255, 255); font-size: 10pt; white-space: pre-wrap; color: rgb(102, 102, 102); font-family: Arvo, serif;\">In January 2021, which industry was the total weekly payroll for production and nonsupervisory employees the highest? Which industry was the lowest?</span>"
            ],
            "metadata": {
                "azdata_cell_guid": "a53f4113-60c6-46d1-b9a3-34610c61d4f9"
            },
            "attachments": {}
        },
        {
            "cell_type": "code",
            "source": [
                "-- industry with highest total weekly payroll in January 2017\r\n",
                "SELECT TEMP.industry_name FROM\r\n",
                "(SELECT TOP 1 MAX(jan2017.value) AS val, i.industry_name \r\n",
                "FROM LaborStatisticsDB.dbo.industry AS i, LaborStatisticsDB.dbo.series AS s, LaborStatisticsDB.dbo.january_2017 AS jan2017\r\n",
                "WHERE i.industry_code = s.industry_code\r\n",
                "AND s.series_id = jan2017.series_id \r\n",
                "AND s.series_title = 'Aggregate weekly payrolls of production and nonsupervisory employees'\r\n",
                "GROUP BY i.industry_name\r\n",
                "ORDER BY 1 DESC ) AS TEMP;\r\n",
                ""
            ],
            "metadata": {
                "azdata_cell_guid": "583695e6-7438-4e03-8970-1fe0c677a793",
                "language": "sql",
                "tags": []
            },
            "outputs": [
                {
                    "output_type": "display_data",
                    "data": {
                        "text/html": "(1 row affected)"
                    },
                    "metadata": {}
                },
                {
                    "output_type": "display_data",
                    "data": {
                        "text/html": "Total execution time: 00:00:00.135"
                    },
                    "metadata": {}
                },
                {
                    "output_type": "execute_result",
                    "metadata": {},
                    "execution_count": 55,
                    "data": {
                        "application/vnd.dataresource+json": {
                            "schema": {
                                "fields": [
                                    {
                                        "name": "industry_name"
                                    }
                                ]
                            },
                            "data": [
                                {
                                    "0": "Total private"
                                }
                            ]
                        },
                        "text/html": [
                            "<table>",
                            "<tr><th>industry_name</th></tr>",
                            "<tr><td>Total private</td></tr>",
                            "</table>"
                        ]
                    }
                }
            ],
            "execution_count": 55
        },
        {
            "cell_type": "code",
            "source": [
                "-- industry with lowest total weekly payroll in January 2017\r\n",
                "\r\n",
                "SELECT TEMP.industry_name FROM\r\n",
                "(SELECT TOP 1 MIN(jan2017.value) AS val, i.industry_name AS industry_name\r\n",
                "FROM LaborStatisticsDB.dbo.industry AS i, LaborStatisticsDB.dbo.series AS s, LaborStatisticsDB.dbo.january_2017 AS jan2017\r\n",
                "WHERE i.industry_code = s.industry_code\r\n",
                "AND s.series_id = jan2017.series_id\r\n",
                "AND s.series_title = 'Aggregate weekly payrolls of production and nonsupervisory employees'\r\n",
                "GROUP BY i.industry_name\r\n",
                "ORDER BY 1 ASC ) AS TEMP;"
            ],
            "metadata": {
                "language": "sql",
                "azdata_cell_guid": "d983ba28-aded-4a82-a006-94c78daf5546",
                "tags": []
            },
            "outputs": [
                {
                    "output_type": "display_data",
                    "data": {
                        "text/html": "(1 row affected)"
                    },
                    "metadata": {}
                },
                {
                    "output_type": "display_data",
                    "data": {
                        "text/html": "Total execution time: 00:00:00.193"
                    },
                    "metadata": {}
                },
                {
                    "output_type": "execute_result",
                    "metadata": {},
                    "execution_count": 31,
                    "data": {
                        "application/vnd.dataresource+json": {
                            "schema": {
                                "fields": [
                                    {
                                        "name": "industry_name"
                                    }
                                ]
                            },
                            "data": [
                                {
                                    "0": "Coin-operated laundries and drycleaners"
                                }
                            ]
                        },
                        "text/html": [
                            "<table>",
                            "<tr><th>industry_name</th></tr>",
                            "<tr><td>Coin-operated laundries and drycleaners</td></tr>",
                            "</table>"
                        ]
                    }
                }
            ],
            "execution_count": 31
        },
        {
            "cell_type": "markdown",
            "source": [
                "## <span style=\"font-size: 12pt; font-family: Montserrat, sans-serif; color: rgb(53, 74, 95); background-color: rgb(255, 255, 255); font-weight: 700; font-variant-numeric: normal; font-variant-east-asian: normal; vertical-align: baseline; white-space: pre-wrap;\">Subqueries, Unions, Derived Tables, Oh My!</span>\n",
                "\n",
                "1. <span style=\"background-color: rgb(255, 255, 255); font-size: 10pt; white-space: pre-wrap; color: rgb(102, 102, 102); font-family: Arvo, serif;\">Write a query that returns the series_id, industry_code, industry_name, and value from the january_2017 table but only if that value is greater than the average value for annual_2016 of data_type_code 82.</span>"
            ],
            "metadata": {
                "azdata_cell_guid": "e98ec195-5399-4718-83ef-54fb954662a5"
            },
            "attachments": {}
        },
        {
            "cell_type": "code",
            "source": [
                "SELECT  DISTINCT s.series_id, i.industry_code, i.industry_name, jan2017.value\r\n",
                "FROM  LaborStatisticsDB.dbo.series AS s,  LaborStatisticsDB.dbo.industry AS i,  LaborStatisticsDB.dbo.january_2017 AS jan2017\r\n",
                "WHERE jan2017.series_id =  s. series_id AND s.industry_code = i.industry_code\r\n",
                "AND jan2017.value > (SELECT AVG(an.value) FROM  LaborStatisticsDB.dbo.annual_2016 AS an,  LaborStatisticsDB.dbo.series AS ss \r\n",
                "                       WHERE  an. series_id = ss.series_id \r\n",
                "                       AND ss.data_type_code = 82 );"
            ],
            "metadata": {
                "azdata_cell_guid": "7c85f70b-528f-4cbd-bd8e-a6efab1c18df",
                "language": "sql",
                "tags": []
            },
            "outputs": [
                {
                    "output_type": "display_data",
                    "data": {
                        "text/html": "(377 rows affected)"
                    },
                    "metadata": {}
                },
                {
                    "output_type": "display_data",
                    "data": {
                        "text/html": "Total execution time: 00:00:00.239"
                    },
                    "metadata": {}
                },
                {
                    "output_type": "execute_result",
                    "metadata": {},
                    "execution_count": 59,
                    "data": {
                        "application/vnd.dataresource+json": {
                            "schema": {
                                "fields": [
                                    {
                                        "name": "series_id"
                                    },
                                    {
                                        "name": "industry_code"
                                    },
                                    {
                                        "name": "industry_name"
                                    },
                                    {
                                        "name": "value"
                                    }
                                ]
                            },
                            "data": [
                                {
                                    "0": "CES0500000056",
                                    "1": "5000000",
                                    "2": "Total private",
                                    "3": "4239112"
                                },
                                {
                                    "0": "CES0500000057",
                                    "1": "5000000",
                                    "2": "Total private",
                                    "3": "110301694"
                                },
                                {
                                    "0": "CES0500000081",
                                    "1": "5000000",
                                    "2": "Total private",
                                    "3": "3412651"
                                },
                                {
                                    "0": "CES0500000082",
                                    "1": "5000000",
                                    "2": "Total private",
                                    "3": "74498171"
                                },
                                {
                                    "0": "CES0600000057",
                                    "1": "6000000",
                                    "2": "Goods-producing",
                                    "3": "21779094"
                                },
                                {
                                    "0": "CES0600000082",
                                    "1": "6000000",
                                    "2": "Goods-producing",
                                    "3": "13426820"
                                },
                                {
                                    "0": "CES0800000056",
                                    "1": "8000000",
                                    "2": "Private service-providing",
                                    "3": "3432382"
                                },
                                {
                                    "0": "CES0800000057",
                                    "1": "8000000",
                                    "2": "Private service-providing",
                                    "3": "88280865"
                                },
                                {
                                    "0": "CES0800000081",
                                    "1": "8000000",
                                    "2": "Private service-providing",
                                    "3": "2818821"
                                },
                                {
                                    "0": "CES0800000082",
                                    "1": "8000000",
                                    "2": "Private service-providing",
                                    "3": "60914722"
                                },
                                {
                                    "0": "CES1000000057",
                                    "1": "10000000",
                                    "2": "Mining and logging",
                                    "3": "966707"
                                },
                                {
                                    "0": "CES1021000057",
                                    "1": "10210000",
                                    "2": "Mining",
                                    "3": "927250"
                                },
                                {
                                    "0": "CES2000000057",
                                    "1": "20000000",
                                    "2": "Construction",
                                    "3": "7555007"
                                },
                                {
                                    "0": "CES2000000082",
                                    "1": "20000000",
                                    "2": "Construction",
                                    "3": "5335274"
                                },
                                {
                                    "0": "CES2023600057",
                                    "1": "20236000",
                                    "2": "Construction of buildings",
                                    "3": "1765016"
                                },
                                {
                                    "0": "CES2023600082",
                                    "1": "20236000",
                                    "2": "Construction of buildings",
                                    "3": "1008035"
                                },
                                {
                                    "0": "CES2023620057",
                                    "1": "20236200",
                                    "2": "Nonresidential building",
                                    "3": "990555"
                                },
                                {
                                    "0": "CES2023700057",
                                    "1": "20237000",
                                    "2": "Heavy and civil engineering construction",
                                    "3": "1221764"
                                },
                                {
                                    "0": "CES2023700082",
                                    "1": "20237000",
                                    "2": "Heavy and civil engineering construction",
                                    "3": "908374"
                                },
                                {
                                    "0": "CES2023800057",
                                    "1": "20238000",
                                    "2": "Specialty trade contractors",
                                    "3": "4595075"
                                },
                                {
                                    "0": "CES2023800082",
                                    "1": "20238000",
                                    "2": "Specialty trade contractors",
                                    "3": "3421902"
                                },
                                {
                                    "0": "CES2023810057",
                                    "1": "20238100",
                                    "2": "Building foundation and exterior contractors",
                                    "3": "833625"
                                },
                                {
                                    "0": "CES2023820057",
                                    "1": "20238200",
                                    "2": "Building equipment contractors",
                                    "3": "2326342"
                                },
                                {
                                    "0": "CES2023820082",
                                    "1": "20238200",
                                    "2": "Building equipment contractors",
                                    "3": "1696080"
                                },
                                {
                                    "0": "CES2023821057",
                                    "1": "20238210",
                                    "2": "Electrical contractors",
                                    "3": "1039534"
                                },
                                {
                                    "0": "CES2023822057",
                                    "1": "20238220",
                                    "2": "Plumbing and HVAC contractors",
                                    "3": "1115270"
                                },
                                {
                                    "0": "CES3000000057",
                                    "1": "30000000",
                                    "2": "Manufacturing",
                                    "3": "13282613"
                                },
                                {
                                    "0": "CES3000000082",
                                    "1": "30000000",
                                    "2": "Manufacturing",
                                    "3": "7491723"
                                },
                                {
                                    "0": "CES3100000057",
                                    "1": "31000000",
                                    "2": "Durable goods",
                                    "3": "8769944"
                                },
                                {
                                    "0": "CES3100000082",
                                    "1": "31000000",
                                    "2": "Durable goods",
                                    "3": "4859716"
                                },
                                {
                                    "0": "CES3133200057",
                                    "1": "31332000",
                                    "2": "Fabricated metal products",
                                    "3": "1421283"
                                },
                                {
                                    "0": "CES3133200082",
                                    "1": "31332000",
                                    "2": "Fabricated metal products",
                                    "3": "871298"
                                },
                                {
                                    "0": "CES3133300057",
                                    "1": "31333000",
                                    "2": "Machinery",
                                    "3": "1251217"
                                },
                                {
                                    "0": "CES3133400057",
                                    "1": "31334000",
                                    "2": "Computer and electronic products",
                                    "3": "1489440"
                                },
                                {
                                    "0": "CES3133600057",
                                    "1": "31336000",
                                    "2": "Transportation equipment",
                                    "3": "2130760"
                                },
                                {
                                    "0": "CES3133600082",
                                    "1": "31336000",
                                    "2": "Transportation equipment",
                                    "3": "1257764"
                                },
                                {
                                    "0": "CES3133600157",
                                    "1": "31336001",
                                    "2": "NULL",
                                    "3": "1050677"
                                },
                                {
                                    "0": "CES3133640057",
                                    "1": "31336400",
                                    "2": "Aerospace products and parts",
                                    "3": "879785"
                                },
                                {
                                    "0": "CES3200000057",
                                    "1": "32000000",
                                    "2": "Nondurable goods",
                                    "3": "4496035"
                                },
                                {
                                    "0": "CES3200000082",
                                    "1": "32000000",
                                    "2": "Nondurable goods",
                                    "3": "2633628"
                                },
                                {
                                    "0": "CES3231100057",
                                    "1": "32311000",
                                    "2": "Food manufacturing",
                                    "3": "1293730"
                                },
                                {
                                    "0": "CES3231100082",
                                    "1": "32311000",
                                    "2": "Food manufacturing",
                                    "3": "851406"
                                },
                                {
                                    "0": "CES3232500057",
                                    "1": "32325000",
                                    "2": "Chemicals",
                                    "3": "1083956"
                                },
                                {
                                    "0": "CES4000000056",
                                    "1": "40000000",
                                    "2": "Trade",
                                    "3": "939889"
                                },
                                {
                                    "0": "CES4000000057",
                                    "1": "40000000",
                                    "2": "Trade",
                                    "3": "21232093"
                                },
                                {
                                    "0": "CES4000000082",
                                    "1": "40000000",
                                    "2": "Trade",
                                    "3": "14850661"
                                },
                                {
                                    "0": "CES4142000057",
                                    "1": "41420000",
                                    "2": "Wholesale trade",
                                    "3": "6858602"
                                },
                                {
                                    "0": "CES4142000082",
                                    "1": "41420000",
                                    "2": "Wholesale trade",
                                    "3": "4480134"
                                },
                                {
                                    "0": "CES4142300057",
                                    "1": "41423000",
                                    "2": "Durable goods",
                                    "3": "3449034"
                                },
                                {
                                    "0": "CES4142300082",
                                    "1": "41423000",
                                    "2": "Durable goods",
                                    "3": "2261006"
                                },
                                {
                                    "0": "CES4142340057",
                                    "1": "41423400",
                                    "2": "Commercial equipment",
                                    "3": "915034"
                                },
                                {
                                    "0": "CES4142400057",
                                    "1": "41424000",
                                    "2": "Nondurable goods",
                                    "3": "2042100"
                                },
                                {
                                    "0": "CES4142400082",
                                    "1": "41424000",
                                    "2": "Nondurable goods",
                                    "3": "1367413"
                                },
                                {
                                    "0": "CES4142500057",
                                    "1": "41425000",
                                    "2": "Electronic markets and agents and brokers",
                                    "3": "1359605"
                                },
                                {
                                    "0": "CES4142500082",
                                    "1": "41425000",
                                    "2": "Electronic markets and agents and brokers",
                                    "3": "855291"
                                },
                                {
                                    "0": "CES4142512057",
                                    "1": "41425120",
                                    "2": "Wholesale trade agents and brokers",
                                    "3": "1317589"
                                },
                                {
                                    "0": "CES4142512082",
                                    "1": "41425120",
                                    "2": "Wholesale trade agents and brokers",
                                    "3": "831319"
                                },
                                {
                                    "0": "CES4200000057",
                                    "1": "42000000",
                                    "2": "Retail trade",
                                    "3": "8857570"
                                },
                                {
                                    "0": "CES4200000082",
                                    "1": "42000000",
                                    "2": "Retail trade",
                                    "3": "6123554"
                                },
                                {
                                    "0": "CES4244100057",
                                    "1": "42441000",
                                    "2": "Motor vehicle and parts dealers",
                                    "3": "1740340"
                                },
                                {
                                    "0": "CES4244100082",
                                    "1": "42441000",
                                    "2": "Motor vehicle and parts dealers",
                                    "3": "1180297"
                                },
                                {
                                    "0": "CES4244110057",
                                    "1": "42441100",
                                    "2": "Automobile dealers",
                                    "3": "1232818"
                                },
                                {
                                    "0": "CES4244110082",
                                    "1": "42441100",
                                    "2": "Automobile dealers",
                                    "3": "839595"
                                },
                                {
                                    "0": "CES4244111057",
                                    "1": "42441110",
                                    "2": "New car dealers",
                                    "3": "1110063"
                                },
                                {
                                    "0": "CES4244500057",
                                    "1": "42445000",
                                    "2": "Food and beverage stores",
                                    "3": "1352705"
                                },
                                {
                                    "0": "CES4244500082",
                                    "1": "42445000",
                                    "2": "Food and beverage stores",
                                    "3": "974710"
                                },
                                {
                                    "0": "CES4244510057",
                                    "1": "42445100",
                                    "2": "Grocery stores",
                                    "3": "1180650"
                                },
                                {
                                    "0": "CES4244510082",
                                    "1": "42445100",
                                    "2": "Grocery stores",
                                    "3": "868430"
                                },
                                {
                                    "0": "CES4244511057",
                                    "1": "42445110",
                                    "2": "Supermarkets and other grocery stores",
                                    "3": "1120814"
                                },
                                {
                                    "0": "CES4244511082",
                                    "1": "42445110",
                                    "2": "Supermarkets and other grocery stores",
                                    "3": "821282"
                                },
                                {
                                    "0": "CES4245200057",
                                    "1": "42452000",
                                    "2": "General merchandise stores",
                                    "3": "1437264"
                                },
                                {
                                    "0": "CES4245200082",
                                    "1": "42452000",
                                    "2": "General merchandise stores",
                                    "3": "1065807"
                                },
                                {
                                    "0": "CES4300000057",
                                    "1": "43000000",
                                    "2": "Transportation and warehousing",
                                    "3": "4588906"
                                },
                                {
                                    "0": "CES4300000082",
                                    "1": "43000000",
                                    "2": "Transportation and warehousing",
                                    "3": "3538683"
                                },
                                {
                                    "0": "CES4348400057",
                                    "1": "43484000",
                                    "2": "Truck transportation",
                                    "3": "1392202"
                                },
                                {
                                    "0": "CES4348400082",
                                    "1": "43484000",
                                    "2": "Truck transportation",
                                    "3": "1131821"
                                },
                                {
                                    "0": "CES4348410057",
                                    "1": "43484100",
                                    "2": "General freight trucking",
                                    "3": "966602"
                                },
                                {
                                    "0": "CES4422000057",
                                    "1": "44220000",
                                    "2": "Utilities",
                                    "3": "920941"
                                },
                                {
                                    "0": "CES5000000057",
                                    "1": "50000000",
                                    "2": "Information",
                                    "3": "3751205"
                                },
                                {
                                    "0": "CES5000000082",
                                    "1": "50000000",
                                    "2": "Information",
                                    "3": "2416443"
                                },
                                {
                                    "0": "CES5051100057",
                                    "1": "50511000",
                                    "2": "Publishing industries",
                                    "3": "1183283"
                                },
                                {
                                    "0": "CES5051700057",
                                    "1": "50517000",
                                    "2": "Telecommunications",
                                    "3": "992441"
                                },
                                {
                                    "0": "CES5500000057",
                                    "1": "55000000",
                                    "2": "Financial activities",
                                    "3": "10213192"
                                },
                                {
                                    "0": "CES5500000082",
                                    "1": "55000000",
                                    "2": "Financial activities",
                                    "3": "6328968"
                                },
                                {
                                    "0": "CES5552200057",
                                    "1": "55522000",
                                    "2": "Credit intermediation and related activities",
                                    "3": "3075310"
                                },
                                {
                                    "0": "CES5552200082",
                                    "1": "55522000",
                                    "2": "Credit intermediation and related activities",
                                    "3": "1717912"
                                },
                                {
                                    "0": "CES5552210057",
                                    "1": "55522100",
                                    "2": "Depository credit intermediation",
                                    "3": "1921539"
                                },
                                {
                                    "0": "CES5552210082",
                                    "1": "55522100",
                                    "2": "Depository credit intermediation",
                                    "3": "971796"
                                },
                                {
                                    "0": "CES5552211057",
                                    "1": "55522110",
                                    "2": "Commercial banking",
                                    "3": "1533413"
                                },
                                {
                                    "0": "CES5552300057",
                                    "1": "55523000",
                                    "2": "NULL",
                                    "3": "1756545"
                                },
                                {
                                    "0": "CES5552300082",
                                    "1": "55523000",
                                    "2": "NULL",
                                    "3": "1044224"
                                },
                                {
                                    "0": "CES5552320057",
                                    "1": "55523200",
                                    "2": "NULL",
                                    "3": "852241"
                                },
                                {
                                    "0": "CES5552390057",
                                    "1": "55523900",
                                    "2": "Other financial investment activities",
                                    "3": "905217"
                                },
                                {
                                    "0": "CES5552400057",
                                    "1": "55524000",
                                    "2": "Insurance carriers and related activities",
                                    "3": "3411895"
                                },
                                {
                                    "0": "CES5552400082",
                                    "1": "55524000",
                                    "2": "Insurance carriers and related activities",
                                    "3": "2347328"
                                },
                                {
                                    "0": "CES5552410057",
                                    "1": "55524100",
                                    "2": "Insurance carriers",
                                    "3": "2130379"
                                },
                                {
                                    "0": "CES5552410082",
                                    "1": "55524100",
                                    "2": "Insurance carriers",
                                    "3": "1477799"
                                },
                                {
                                    "0": "CES5552411057",
                                    "1": "55524110",
                                    "2": "Direct life and health insurance carriers",
                                    "3": "1169424"
                                },
                                {
                                    "0": "CES5552412057",
                                    "1": "55524120",
                                    "2": "Direct insurers",
                                    "3": "917557"
                                },
                                {
                                    "0": "CES5552420057",
                                    "1": "55524200",
                                    "2": "Insurance agencies",
                                    "3": "1281029"
                                },
                                {
                                    "0": "CES5552420082",
                                    "1": "55524200",
                                    "2": "Insurance agencies",
                                    "3": "872398"
                                },
                                {
                                    "0": "CES5552421057",
                                    "1": "55524210",
                                    "2": "Insurance agencies and brokerages",
                                    "3": "858730"
                                },
                                {
                                    "0": "CES5553100057",
                                    "1": "55531000",
                                    "2": "Real estate",
                                    "3": "1417131"
                                },
                                {
                                    "0": "CES5553100082",
                                    "1": "55531000",
                                    "2": "Real estate",
                                    "3": "862987"
                                },
                                {
                                    "0": "CES6000000057",
                                    "1": "60000000",
                                    "2": "Professional and business services",
                                    "3": "23113158"
                                },
                                {
                                    "0": "CES6000000082",
                                    "1": "60000000",
                                    "2": "Professional and business services",
                                    "3": "15251268"
                                },
                                {
                                    "0": "CES6054000057",
                                    "1": "60540000",
                                    "2": "Professional and technical services",
                                    "3": "13464691"
                                },
                                {
                                    "0": "CES6054000082",
                                    "1": "60540000",
                                    "2": "Professional and technical services",
                                    "3": "8821026"
                                },
                                {
                                    "0": "CES6054110057",
                                    "1": "60541100",
                                    "2": "Legal services",
                                    "3": "1666281"
                                },
                                {
                                    "0": "CES6054110082",
                                    "1": "60541100",
                                    "2": "Legal services",
                                    "3": "1058862"
                                },
                                {
                                    "0": "CES6054111057",
                                    "1": "60541110",
                                    "2": "Offices of lawyers",
                                    "3": "1588040"
                                },
                                {
                                    "0": "CES6054111082",
                                    "1": "60541110",
                                    "2": "Offices of lawyers",
                                    "3": "1004009"
                                },
                                {
                                    "0": "CES6054120057",
                                    "1": "60541200",
                                    "2": "Accounting and bookkeeping services",
                                    "3": "1116237"
                                },
                                {
                                    "0": "CES6054130057",
                                    "1": "60541300",
                                    "2": "Architectural and engineering services",
                                    "3": "2152162"
                                },
                                {
                                    "0": "CES6054130082",
                                    "1": "60541300",
                                    "2": "Architectural and engineering services",
                                    "3": "1439445"
                                },
                                {
                                    "0": "CES6054134057",
                                    "1": "60541340",
                                    "2": "NULL",
                                    "3": "1536969"
                                },
                                {
                                    "0": "CES6054134082",
                                    "1": "60541340",
                                    "2": "NULL",
                                    "3": "1051499"
                                },
                                {
                                    "0": "CES6054150057",
                                    "1": "60541500",
                                    "2": "Computer systems design and related services",
                                    "3": "3595409"
                                },
                                {
                                    "0": "CES6054150082",
                                    "1": "60541500",
                                    "2": "Computer systems design and related services",
                                    "3": "2666568"
                                },
                                {
                                    "0": "CES6054151157",
                                    "1": "60541511",
                                    "2": "Custom computer programming services",
                                    "3": "1596292"
                                },
                                {
                                    "0": "CES6054151182",
                                    "1": "60541511",
                                    "2": "Custom computer programming services",
                                    "3": "1173494"
                                },
                                {
                                    "0": "CES6054151257",
                                    "1": "60541512",
                                    "2": "Computer systems design services",
                                    "3": "1695613"
                                },
                                {
                                    "0": "CES6054151282",
                                    "1": "60541512",
                                    "2": "Computer systems design services",
                                    "3": "1274481"
                                },
                                {
                                    "0": "CES6054160057",
                                    "1": "60541600",
                                    "2": "Management and technical consulting services",
                                    "3": "2103707"
                                },
                                {
                                    "0": "CES6054160082",
                                    "1": "60541600",
                                    "2": "Management and technical consulting services",
                                    "3": "1330587"
                                },
                                {
                                    "0": "CES6054161057",
                                    "1": "60541610",
                                    "2": "Management consulting services",
                                    "3": "1711601"
                                },
                                {
                                    "0": "CES6054161082",
                                    "1": "60541610",
                                    "2": "Management consulting services",
                                    "3": "1053691"
                                },
                                {
                                    "0": "CES6054161157",
                                    "1": "60541611",
                                    "2": "Administrative management consulting services",
                                    "3": "955447"
                                },
                                {
                                    "0": "CES6054170057",
                                    "1": "60541700",
                                    "2": "Scientific research and development services",
                                    "3": "1265137"
                                },
                                {
                                    "0": "CES6054171057",
                                    "1": "60541710",
                                    "2": "Research and development in the physical",
                                    "3": "1188296"
                                },
                                {
                                    "0": "CES6054171257",
                                    "1": "60541712",
                                    "2": "Physical",
                                    "3": "860377"
                                },
                                {
                                    "0": "CES6055000057",
                                    "1": "60550000",
                                    "2": "Management of companies and enterprises",
                                    "3": "3428612"
                                },
                                {
                                    "0": "CES6055000082",
                                    "1": "60550000",
                                    "2": "Management of companies and enterprises",
                                    "3": "1566036"
                                },
                                {
                                    "0": "CES6055111457",
                                    "1": "60551114",
                                    "2": "Managing offices",
                                    "3": "3270688"
                                },
                                {
                                    "0": "CES6055111482",
                                    "1": "60551114",
                                    "2": "Managing offices",
                                    "3": "1496334"
                                },
                                {
                                    "0": "CES6056000057",
                                    "1": "60560000",
                                    "2": "Administrative and waste services",
                                    "3": "6272001"
                                },
                                {
                                    "0": "CES6056000082",
                                    "1": "60560000",
                                    "2": "Administrative and waste services",
                                    "3": "4886085"
                                },
                                {
                                    "0": "CES6056100057",
                                    "1": "60561000",
                                    "2": "Administrative and support services",
                                    "3": "5838373"
                                },
                                {
                                    "0": "CES6056100082",
                                    "1": "60561000",
                                    "2": "Administrative and support services",
                                    "3": "4565569"
                                },
                                {
                                    "0": "CES6056130057",
                                    "1": "60561300",
                                    "2": "Employment services",
                                    "3": "2255347"
                                },
                                {
                                    "0": "CES6056130082",
                                    "1": "60561300",
                                    "2": "Employment services",
                                    "3": "2013846"
                                },
                                {
                                    "0": "CES6056132057",
                                    "1": "60561320",
                                    "2": "Temporary help services",
                                    "3": "1723484"
                                },
                                {
                                    "0": "CES6056132082",
                                    "1": "60561320",
                                    "2": "Temporary help services",
                                    "3": "1598939"
                                },
                                {
                                    "0": "CES6056170057",
                                    "1": "60561700",
                                    "2": "Services to buildings and dwellings",
                                    "3": "1150182"
                                },
                                {
                                    "0": "CES6056170082",
                                    "1": "60561700",
                                    "2": "Services to buildings and dwellings",
                                    "3": "846000"
                                },
                                {
                                    "0": "CES6500000057",
                                    "1": "65000000",
                                    "2": "Education and health services",
                                    "3": "19585920"
                                },
                                {
                                    "0": "CES6500000082",
                                    "1": "65000000",
                                    "2": "Education and health services",
                                    "3": "14765156"
                                },
                                {
                                    "0": "CES6562000057",
                                    "1": "65620000",
                                    "2": "Health care and social assistance",
                                    "3": "16718245"
                                },
                                {
                                    "0": "CES6562000082",
                                    "1": "65620000",
                                    "2": "Health care and social assistance",
                                    "3": "12762526"
                                },
                                {
                                    "0": "CES6562000157",
                                    "1": "65620001",
                                    "2": "NULL",
                                    "3": "14957970"
                                },
                                {
                                    "0": "CES6562000182",
                                    "1": "65620001",
                                    "2": "NULL",
                                    "3": "11413008"
                                },
                                {
                                    "0": "CES6562100057",
                                    "1": "65621000",
                                    "2": "Ambulatory health care services",
                                    "3": "7193566"
                                },
                                {
                                    "0": "CES6562100082",
                                    "1": "65621000",
                                    "2": "Ambulatory health care services",
                                    "3": "4875906"
                                },
                                {
                                    "0": "CES6562110057",
                                    "1": "65621100",
                                    "2": "Offices of physicians",
                                    "3": "3521877"
                                },
                                {
                                    "0": "CES6562110082",
                                    "1": "65621100",
                                    "2": "Offices of physicians",
                                    "3": "2141331"
                                },
                                {
                                    "0": "CES6562111157",
                                    "1": "65621111",
                                    "2": "Offices of physicians",
                                    "3": "3472162"
                                },
                                {
                                    "0": "CES6562111182",
                                    "1": "65621111",
                                    "2": "Offices of physicians",
                                    "3": "2113086"
                                },
                                {
                                    "0": "CES6562120057",
                                    "1": "65621200",
                                    "2": "Offices of dentists",
                                    "3": "842558"
                                },
                                {
                                    "0": "CES6562140057",
                                    "1": "65621400",
                                    "2": "Outpatient care centers",
                                    "3": "839455"
                                },
                                {
                                    "0": "CES6562200057",
                                    "1": "65622000",
                                    "2": "Hospitals",
                                    "3": "5842779"
                                },
                                {
                                    "0": "CES6562200082",
                                    "1": "65622000",
                                    "2": "Hospitals",
                                    "3": "5048432"
                                },
                                {
                                    "0": "CES6562210057",
                                    "1": "65622100",
                                    "2": "General medical and surgical hospitals",
                                    "3": "5428714"
                                },
                                {
                                    "0": "CES6562210082",
                                    "1": "65622100",
                                    "2": "General medical and surgical hospitals",
                                    "3": "4716914"
                                },
                                {
                                    "0": "CES6562300057",
                                    "1": "65623000",
                                    "2": "Nursing and residential care facilities",
                                    "3": "1941241"
                                },
                                {
                                    "0": "CES6562300082",
                                    "1": "65623000",
                                    "2": "Nursing and residential care facilities",
                                    "3": "1489277"
                                },
                                {
                                    "0": "CES6562310057",
                                    "1": "65623100",
                                    "2": "Nursing care facilities",
                                    "3": "994994"
                                },
                                {
                                    "0": "CES6562400057",
                                    "1": "65624000",
                                    "2": "Social assistance",
                                    "3": "1787502"
                                },
                                {
                                    "0": "CES6562400082",
                                    "1": "65624000",
                                    "2": "Social assistance",
                                    "3": "1337022"
                                },
                                {
                                    "0": "CES6562410057",
                                    "1": "65624100",
                                    "2": "Individual and family services",
                                    "3": "1095365"
                                },
                                {
                                    "0": "CES6562410082",
                                    "1": "65624100",
                                    "2": "Individual and family services",
                                    "3": "828771"
                                },
                                {
                                    "0": "CES7000000057",
                                    "1": "70000000",
                                    "2": "Leisure and hospitality",
                                    "3": "6232054"
                                },
                                {
                                    "0": "CES7000000082",
                                    "1": "70000000",
                                    "2": "Leisure and hospitality",
                                    "3": "4537173"
                                },
                                {
                                    "0": "CES7071000057",
                                    "1": "70710000",
                                    "2": "Arts",
                                    "3": "1167355"
                                },
                                {
                                    "0": "CES7072000057",
                                    "1": "70720000",
                                    "2": "Accommodation and food services",
                                    "3": "5078737"
                                },
                                {
                                    "0": "CES7072000082",
                                    "1": "70720000",
                                    "2": "Accommodation and food services",
                                    "3": "3802356"
                                },
                                {
                                    "0": "CES7072100057",
                                    "1": "70721000",
                                    "2": "Accommodation",
                                    "3": "1008168"
                                },
                                {
                                    "0": "CES7072110057",
                                    "1": "70721100",
                                    "2": "Traveler accommodation",
                                    "3": "980738"
                                },
                                {
                                    "0": "CES7072200057",
                                    "1": "70722000",
                                    "2": "Food services and drinking places",
                                    "3": "4058595"
                                },
                                {
                                    "0": "CES7072200082",
                                    "1": "70722000",
                                    "2": "Food services and drinking places",
                                    "3": "3085429"
                                },
                                {
                                    "0": "CES7072250057",
                                    "1": "70722500",
                                    "2": "Restaurants and other eating places",
                                    "3": "3617277"
                                },
                                {
                                    "0": "CES7072250082",
                                    "1": "70722500",
                                    "2": "Restaurants and other eating places",
                                    "3": "2768855"
                                },
                                {
                                    "0": "CES7072251157",
                                    "1": "70722511",
                                    "2": "Full-service restaurants",
                                    "3": "2105534"
                                },
                                {
                                    "0": "CES7072251182",
                                    "1": "70722511",
                                    "2": "Full-service restaurants",
                                    "3": "1626780"
                                },
                                {
                                    "0": "CES7072251357",
                                    "1": "70722513",
                                    "2": "Limited-service restaurants",
                                    "3": "1281353"
                                },
                                {
                                    "0": "CES7072251382",
                                    "1": "70722513",
                                    "2": "Limited-service restaurants",
                                    "3": "969748"
                                },
                                {
                                    "0": "CES8000000057",
                                    "1": "80000000",
                                    "2": "Other services",
                                    "3": "4263141"
                                },
                                {
                                    "0": "CES8000000082",
                                    "1": "80000000",
                                    "2": "Other services",
                                    "3": "2875314"
                                },
                                {
                                    "0": "CES8081100057",
                                    "1": "80811000",
                                    "2": "Repair and maintenance",
                                    "3": "1051091"
                                },
                                {
                                    "0": "CES8081300057",
                                    "1": "80813000",
                                    "2": "Membership associations and organizations",
                                    "3": "2494120"
                                },
                                {
                                    "0": "CES8081300082",
                                    "1": "80813000",
                                    "2": "Membership associations and organizations",
                                    "3": "1599916"
                                },
                                {
                                    "0": "CEU0500000056",
                                    "1": "5000000",
                                    "2": "Total private",
                                    "3": "4165978"
                                },
                                {
                                    "0": "CEU0500000057",
                                    "1": "5000000",
                                    "2": "Total private",
                                    "3": "109731861"
                                },
                                {
                                    "0": "CEU0500000081",
                                    "1": "5000000",
                                    "2": "Total private",
                                    "3": "3335193"
                                },
                                {
                                    "0": "CEU0500000082",
                                    "1": "5000000",
                                    "2": "Total private",
                                    "3": "73474302"
                                },
                                {
                                    "0": "CEU0600000057",
                                    "1": "6000000",
                                    "2": "Goods-producing",
                                    "3": "21113749"
                                },
                                {
                                    "0": "CEU0600000082",
                                    "1": "6000000",
                                    "2": "Goods-producing",
                                    "3": "12711945"
                                },
                                {
                                    "0": "CEU0800000056",
                                    "1": "8000000",
                                    "2": "Private service-providing",
                                    "3": "3388741"
                                },
                                {
                                    "0": "CEU0800000057",
                                    "1": "8000000",
                                    "2": "Private service-providing",
                                    "3": "88446140"
                                },
                                {
                                    "0": "CEU0800000081",
                                    "1": "8000000",
                                    "2": "Private service-providing",
                                    "3": "2777879"
                                },
                                {
                                    "0": "CEU0800000082",
                                    "1": "8000000",
                                    "2": "Private service-providing",
                                    "3": "60807771"
                                },
                                {
                                    "0": "CEU1000000057",
                                    "1": "10000000",
                                    "2": "Mining and logging",
                                    "3": "973773"
                                },
                                {
                                    "0": "CEU1021000057",
                                    "1": "10210000",
                                    "2": "Mining",
                                    "3": "932874"
                                },
                                {
                                    "0": "CEU2000000057",
                                    "1": "20000000",
                                    "2": "Construction",
                                    "3": "6925429"
                                },
                                {
                                    "0": "CEU2000000082",
                                    "1": "20000000",
                                    "2": "Construction",
                                    "3": "4724156"
                                },
                                {
                                    "0": "CEU2023600057",
                                    "1": "20236000",
                                    "2": "Construction of buildings",
                                    "3": "1692237"
                                },
                                {
                                    "0": "CEU2023600082",
                                    "1": "20236000",
                                    "2": "Construction of buildings",
                                    "3": "940800"
                                },
                                {
                                    "0": "CEU2023620057",
                                    "1": "20236200",
                                    "2": "Nonresidential building",
                                    "3": "953792"
                                },
                                {
                                    "0": "CEU2023700057",
                                    "1": "20237000",
                                    "2": "Heavy and civil engineering construction",
                                    "3": "1023452"
                                },
                                {
                                    "0": "CEU2023800057",
                                    "1": "20238000",
                                    "2": "Specialty trade contractors",
                                    "3": "4210973"
                                },
                                {
                                    "0": "CEU2023800082",
                                    "1": "20238000",
                                    "2": "Specialty trade contractors",
                                    "3": "3062211"
                                },
                                {
                                    "0": "CEU2023820057",
                                    "1": "20238200",
                                    "2": "Building equipment contractors",
                                    "3": "2238858"
                                },
                                {
                                    "0": "CEU2023820082",
                                    "1": "20238200",
                                    "2": "Building equipment contractors",
                                    "3": "1621266"
                                },
                                {
                                    "0": "CEU2023821057",
                                    "1": "20238210",
                                    "2": "Electrical contractors",
                                    "3": "988806"
                                },
                                {
                                    "0": "CEU2023822057",
                                    "1": "20238220",
                                    "2": "Plumbing and HVAC contractors",
                                    "3": "1082068"
                                },
                                {
                                    "0": "CEU3000000057",
                                    "1": "30000000",
                                    "2": "Manufacturing",
                                    "3": "13241229"
                                },
                                {
                                    "0": "CEU3000000082",
                                    "1": "30000000",
                                    "2": "Manufacturing",
                                    "3": "7411960"
                                },
                                {
                                    "0": "CEU3100000057",
                                    "1": "31000000",
                                    "2": "Durable goods",
                                    "3": "8758974"
                                },
                                {
                                    "0": "CEU3100000082",
                                    "1": "31000000",
                                    "2": "Durable goods",
                                    "3": "4808368"
                                },
                                {
                                    "0": "CEU3133200057",
                                    "1": "31332000",
                                    "2": "Fabricated metal products",
                                    "3": "1417807"
                                },
                                {
                                    "0": "CEU3133200082",
                                    "1": "31332000",
                                    "2": "Fabricated metal products",
                                    "3": "867242"
                                },
                                {
                                    "0": "CEU3133300057",
                                    "1": "31333000",
                                    "2": "Machinery",
                                    "3": "1259875"
                                },
                                {
                                    "0": "CEU3133400057",
                                    "1": "31334000",
                                    "2": "Computer and electronic products",
                                    "3": "1499453"
                                },
                                {
                                    "0": "CEU3133600057",
                                    "1": "31336000",
                                    "2": "Transportation equipment",
                                    "3": "2137791"
                                },
                                {
                                    "0": "CEU3133600082",
                                    "1": "31336000",
                                    "2": "Transportation equipment",
                                    "3": "1242685"
                                },
                                {
                                    "0": "CEU3133600157",
                                    "1": "31336001",
                                    "2": "NULL",
                                    "3": "1053186"
                                },
                                {
                                    "0": "CEU3133640057",
                                    "1": "31336400",
                                    "2": "Aerospace products and parts",
                                    "3": "872986"
                                },
                                {
                                    "0": "CEU3200000057",
                                    "1": "32000000",
                                    "2": "Nondurable goods",
                                    "3": "4468396"
                                },
                                {
                                    "0": "CEU3200000082",
                                    "1": "32000000",
                                    "2": "Nondurable goods",
                                    "3": "2605069"
                                },
                                {
                                    "0": "CEU3231100057",
                                    "1": "32311000",
                                    "2": "Food manufacturing",
                                    "3": "1275631"
                                },
                                {
                                    "0": "CEU3231100082",
                                    "1": "32311000",
                                    "2": "Food manufacturing",
                                    "3": "842201"
                                },
                                {
                                    "0": "CEU3232500057",
                                    "1": "32325000",
                                    "2": "Chemicals",
                                    "3": "1086916"
                                },
                                {
                                    "0": "CEU4000000056",
                                    "1": "40000000",
                                    "2": "Trade",
                                    "3": "928918"
                                },
                                {
                                    "0": "CEU4000000057",
                                    "1": "40000000",
                                    "2": "Trade",
                                    "3": "21207198"
                                },
                                {
                                    "0": "CEU4000000082",
                                    "1": "40000000",
                                    "2": "Trade",
                                    "3": "14732108"
                                },
                                {
                                    "0": "CEU4142000057",
                                    "1": "41420000",
                                    "2": "Wholesale trade",
                                    "3": "6930351"
                                },
                                {
                                    "0": "CEU4142000082",
                                    "1": "41420000",
                                    "2": "Wholesale trade",
                                    "3": "4506110"
                                },
                                {
                                    "0": "CEU4142300057",
                                    "1": "41423000",
                                    "2": "Durable goods",
                                    "3": "3494945"
                                },
                                {
                                    "0": "CEU4142300082",
                                    "1": "41423000",
                                    "2": "Durable goods",
                                    "3": "2283094"
                                },
                                {
                                    "0": "CEU4142340057",
                                    "1": "41423400",
                                    "2": "Commercial equipment",
                                    "3": "949056"
                                },
                                {
                                    "0": "CEU4142400057",
                                    "1": "41424000",
                                    "2": "Nondurable goods",
                                    "3": "2044132"
                                },
                                {
                                    "0": "CEU4142400082",
                                    "1": "41424000",
                                    "2": "Nondurable goods",
                                    "3": "1348136"
                                },
                                {
                                    "0": "CEU4142500057",
                                    "1": "41425000",
                                    "2": "Electronic markets and agents and brokers",
                                    "3": "1389263"
                                },
                                {
                                    "0": "CEU4142500082",
                                    "1": "41425000",
                                    "2": "Electronic markets and agents and brokers",
                                    "3": "873578"
                                },
                                {
                                    "0": "CEU4142512057",
                                    "1": "41425120",
                                    "2": "Wholesale trade agents and brokers",
                                    "3": "1347220"
                                },
                                {
                                    "0": "CEU4142512082",
                                    "1": "41425120",
                                    "2": "Wholesale trade agents and brokers",
                                    "3": "851551"
                                },
                                {
                                    "0": "CEU4200000057",
                                    "1": "42000000",
                                    "2": "Retail trade",
                                    "3": "8761040"
                                },
                                {
                                    "0": "CEU4200000082",
                                    "1": "42000000",
                                    "2": "Retail trade",
                                    "3": "6060100"
                                },
                                {
                                    "0": "CEU4244100057",
                                    "1": "42441000",
                                    "2": "Motor vehicle and parts dealers",
                                    "3": "1724940"
                                },
                                {
                                    "0": "CEU4244100082",
                                    "1": "42441000",
                                    "2": "Motor vehicle and parts dealers",
                                    "3": "1163420"
                                },
                                {
                                    "0": "CEU4244110057",
                                    "1": "42441100",
                                    "2": "Automobile dealers",
                                    "3": "1239175"
                                },
                                {
                                    "0": "CEU4244110082",
                                    "1": "42441100",
                                    "2": "Automobile dealers",
                                    "3": "831131"
                                },
                                {
                                    "0": "CEU4244111057",
                                    "1": "42441110",
                                    "2": "New car dealers",
                                    "3": "1119385"
                                },
                                {
                                    "0": "CEU4244500057",
                                    "1": "42445000",
                                    "2": "Food and beverage stores",
                                    "3": "1338097"
                                },
                                {
                                    "0": "CEU4244500082",
                                    "1": "42445000",
                                    "2": "Food and beverage stores",
                                    "3": "963315"
                                },
                                {
                                    "0": "CEU4244510057",
                                    "1": "42445100",
                                    "2": "Grocery stores",
                                    "3": "1168906"
                                },
                                {
                                    "0": "CEU4244510082",
                                    "1": "42445100",
                                    "2": "Grocery stores",
                                    "3": "861224"
                                },
                                {
                                    "0": "CEU4244511057",
                                    "1": "42445110",
                                    "2": "Supermarkets and other grocery stores",
                                    "3": "1110354"
                                },
                                {
                                    "0": "CEU4245200057",
                                    "1": "42452000",
                                    "2": "General merchandise stores",
                                    "3": "1376086"
                                },
                                {
                                    "0": "CEU4245200082",
                                    "1": "42452000",
                                    "2": "General merchandise stores",
                                    "3": "1049973"
                                },
                                {
                                    "0": "CEU4300000057",
                                    "1": "43000000",
                                    "2": "Transportation and warehousing",
                                    "3": "4575913"
                                },
                                {
                                    "0": "CEU4300000082",
                                    "1": "43000000",
                                    "2": "Transportation and warehousing",
                                    "3": "3495553"
                                },
                                {
                                    "0": "CEU4348400057",
                                    "1": "43484000",
                                    "2": "Truck transportation",
                                    "3": "1346733"
                                },
                                {
                                    "0": "CEU4348400082",
                                    "1": "43484000",
                                    "2": "Truck transportation",
                                    "3": "1092427"
                                },
                                {
                                    "0": "CEU4348410057",
                                    "1": "43484100",
                                    "2": "General freight trucking",
                                    "3": "952051"
                                },
                                {
                                    "0": "CEU4422000057",
                                    "1": "44220000",
                                    "2": "Utilities",
                                    "3": "919164"
                                },
                                {
                                    "0": "CEU5000000057",
                                    "1": "50000000",
                                    "2": "Information",
                                    "3": "3839933"
                                },
                                {
                                    "0": "CEU5000000082",
                                    "1": "50000000",
                                    "2": "Information",
                                    "3": "2434992"
                                },
                                {
                                    "0": "CEU5051100057",
                                    "1": "50511000",
                                    "2": "Publishing industries",
                                    "3": "1227512"
                                },
                                {
                                    "0": "CEU5051120057",
                                    "1": "50511200",
                                    "2": "Software publishers",
                                    "3": "860100"
                                },
                                {
                                    "0": "CEU5051700057",
                                    "1": "50517000",
                                    "2": "Telecommunications",
                                    "3": "1020155"
                                },
                                {
                                    "0": "CEU5500000057",
                                    "1": "55000000",
                                    "2": "Financial activities",
                                    "3": "10456034"
                                },
                                {
                                    "0": "CEU5500000082",
                                    "1": "55000000",
                                    "2": "Financial activities",
                                    "3": "6467426"
                                },
                                {
                                    "0": "CEU5552200057",
                                    "1": "55522000",
                                    "2": "Credit intermediation and related activities",
                                    "3": "3149170"
                                },
                                {
                                    "0": "CEU5552200082",
                                    "1": "55522000",
                                    "2": "Credit intermediation and related activities",
                                    "3": "1767137"
                                },
                                {
                                    "0": "CEU5552210057",
                                    "1": "55522100",
                                    "2": "Depository credit intermediation",
                                    "3": "1979117"
                                },
                                {
                                    "0": "CEU5552210082",
                                    "1": "55522100",
                                    "2": "Depository credit intermediation",
                                    "3": "1004069"
                                },
                                {
                                    "0": "CEU5552211057",
                                    "1": "55522110",
                                    "2": "Commercial banking",
                                    "3": "1575662"
                                },
                                {
                                    "0": "CEU5552300057",
                                    "1": "55523000",
                                    "2": "NULL",
                                    "3": "1818312"
                                },
                                {
                                    "0": "CEU5552300082",
                                    "1": "55523000",
                                    "2": "NULL",
                                    "3": "1087325"
                                },
                                {
                                    "0": "CEU5552320057",
                                    "1": "55523200",
                                    "2": "NULL",
                                    "3": "882519"
                                },
                                {
                                    "0": "CEU5552390057",
                                    "1": "55523900",
                                    "2": "Other financial investment activities",
                                    "3": "937922"
                                },
                                {
                                    "0": "CEU5552400057",
                                    "1": "55524000",
                                    "2": "Insurance carriers and related activities",
                                    "3": "3532152"
                                },
                                {
                                    "0": "CEU5552400082",
                                    "1": "55524000",
                                    "2": "Insurance carriers and related activities",
                                    "3": "2408490"
                                },
                                {
                                    "0": "CEU5552410057",
                                    "1": "55524100",
                                    "2": "Insurance carriers",
                                    "3": "2215577"
                                },
                                {
                                    "0": "CEU5552410082",
                                    "1": "55524100",
                                    "2": "Insurance carriers",
                                    "3": "1509979"
                                },
                                {
                                    "0": "CEU5552411057",
                                    "1": "55524110",
                                    "2": "Direct life and health insurance carriers",
                                    "3": "1216763"
                                },
                                {
                                    "0": "CEU5552412057",
                                    "1": "55524120",
                                    "2": "Direct insurers",
                                    "3": "941433"
                                },
                                {
                                    "0": "CEU5552420057",
                                    "1": "55524200",
                                    "2": "Insurance agencies",
                                    "3": "1315375"
                                },
                                {
                                    "0": "CEU5552420082",
                                    "1": "55524200",
                                    "2": "Insurance agencies",
                                    "3": "894878"
                                },
                                {
                                    "0": "CEU5552421057",
                                    "1": "55524210",
                                    "2": "Insurance agencies and brokerages",
                                    "3": "878065"
                                },
                                {
                                    "0": "CEU5553100057",
                                    "1": "55531000",
                                    "2": "Real estate",
                                    "3": "1418712"
                                },
                                {
                                    "0": "CEU5553100082",
                                    "1": "55531000",
                                    "2": "Real estate",
                                    "3": "865620"
                                },
                                {
                                    "0": "CEU6000000057",
                                    "1": "60000000",
                                    "2": "Professional and business services",
                                    "3": "23230608"
                                },
                                {
                                    "0": "CEU6000000082",
                                    "1": "60000000",
                                    "2": "Professional and business services",
                                    "3": "15219807"
                                },
                                {
                                    "0": "CEU6054000057",
                                    "1": "60540000",
                                    "2": "Professional and technical services",
                                    "3": "13718735"
                                },
                                {
                                    "0": "CEU6054000082",
                                    "1": "60540000",
                                    "2": "Professional and technical services",
                                    "3": "8976687"
                                },
                                {
                                    "0": "CEU6054110057",
                                    "1": "60541100",
                                    "2": "Legal services",
                                    "3": "1722541"
                                },
                                {
                                    "0": "CEU6054110082",
                                    "1": "60541100",
                                    "2": "Legal services",
                                    "3": "1093898"
                                },
                                {
                                    "0": "CEU6054111057",
                                    "1": "60541110",
                                    "2": "Offices of lawyers",
                                    "3": "1641024"
                                },
                                {
                                    "0": "CEU6054111082",
                                    "1": "60541110",
                                    "2": "Offices of lawyers",
                                    "3": "1038464"
                                },
                                {
                                    "0": "CEU6054120057",
                                    "1": "60541200",
                                    "2": "Accounting and bookkeeping services",
                                    "3": "1202203"
                                },
                                {
                                    "0": "CEU6054130057",
                                    "1": "60541300",
                                    "2": "Architectural and engineering services",
                                    "3": "2146385"
                                },
                                {
                                    "0": "CEU6054130082",
                                    "1": "60541300",
                                    "2": "Architectural and engineering services",
                                    "3": "1422967"
                                },
                                {
                                    "0": "CEU6054134057",
                                    "1": "60541340",
                                    "2": "NULL",
                                    "3": "1537888"
                                },
                                {
                                    "0": "CEU6054134082",
                                    "1": "60541340",
                                    "2": "NULL",
                                    "3": "1042223"
                                },
                                {
                                    "0": "CEU6054150057",
                                    "1": "60541500",
                                    "2": "Computer systems design and related services",
                                    "3": "3676138"
                                },
                                {
                                    "0": "CEU6054150082",
                                    "1": "60541500",
                                    "2": "Computer systems design and related services",
                                    "3": "2725031"
                                },
                                {
                                    "0": "CEU6054151157",
                                    "1": "60541511",
                                    "2": "Custom computer programming services",
                                    "3": "1639255"
                                },
                                {
                                    "0": "CEU6054151182",
                                    "1": "60541511",
                                    "2": "Custom computer programming services",
                                    "3": "1198283"
                                },
                                {
                                    "0": "CEU6054151257",
                                    "1": "60541512",
                                    "2": "Computer systems design services",
                                    "3": "1738428"
                                },
                                {
                                    "0": "CEU6054151282",
                                    "1": "60541512",
                                    "2": "Computer systems design services",
                                    "3": "1309441"
                                },
                                {
                                    "0": "CEU6054160057",
                                    "1": "60541600",
                                    "2": "Management and technical consulting services",
                                    "3": "2123095"
                                },
                                {
                                    "0": "CEU6054160082",
                                    "1": "60541600",
                                    "2": "Management and technical consulting services",
                                    "3": "1336594"
                                },
                                {
                                    "0": "CEU6054161057",
                                    "1": "60541610",
                                    "2": "Management consulting services",
                                    "3": "1755386"
                                },
                                {
                                    "0": "CEU6054161082",
                                    "1": "60541610",
                                    "2": "Management consulting services",
                                    "3": "1066602"
                                },
                                {
                                    "0": "CEU6054161157",
                                    "1": "60541611",
                                    "2": "Administrative management consulting services",
                                    "3": "981156"
                                },
                                {
                                    "0": "CEU6054170057",
                                    "1": "60541700",
                                    "2": "Scientific research and development services",
                                    "3": "1283264"
                                },
                                {
                                    "0": "CEU6054171057",
                                    "1": "60541710",
                                    "2": "Research and development in the physical",
                                    "3": "1207983"
                                },
                                {
                                    "0": "CEU6054171257",
                                    "1": "60541712",
                                    "2": "Physical",
                                    "3": "874882"
                                },
                                {
                                    "0": "CEU6055000057",
                                    "1": "60550000",
                                    "2": "Management of companies and enterprises",
                                    "3": "3491614"
                                },
                                {
                                    "0": "CEU6055000082",
                                    "1": "60550000",
                                    "2": "Management of companies and enterprises",
                                    "3": "1587677"
                                },
                                {
                                    "0": "CEU6055111457",
                                    "1": "60551114",
                                    "2": "Managing offices",
                                    "3": "3329401"
                                },
                                {
                                    "0": "CEU6055111482",
                                    "1": "60551114",
                                    "2": "Managing offices",
                                    "3": "1517287"
                                },
                                {
                                    "0": "CEU6056000057",
                                    "1": "60560000",
                                    "2": "Administrative and waste services",
                                    "3": "6040399"
                                },
                                {
                                    "0": "CEU6056000082",
                                    "1": "60560000",
                                    "2": "Administrative and waste services",
                                    "3": "4659531"
                                },
                                {
                                    "0": "CEU6056100057",
                                    "1": "60561000",
                                    "2": "Administrative and support services",
                                    "3": "5597836"
                                },
                                {
                                    "0": "CEU6056100082",
                                    "1": "60561000",
                                    "2": "Administrative and support services",
                                    "3": "4357866"
                                },
                                {
                                    "0": "CEU6056130057",
                                    "1": "60561300",
                                    "2": "Employment services",
                                    "3": "2167910"
                                },
                                {
                                    "0": "CEU6056130082",
                                    "1": "60561300",
                                    "2": "Employment services",
                                    "3": "1938059"
                                },
                                {
                                    "0": "CEU6056132057",
                                    "1": "60561320",
                                    "2": "Temporary help services",
                                    "3": "1650527"
                                },
                                {
                                    "0": "CEU6056132082",
                                    "1": "60561320",
                                    "2": "Temporary help services",
                                    "3": "1530782"
                                },
                                {
                                    "0": "CEU6056170057",
                                    "1": "60561700",
                                    "2": "Services to buildings and dwellings",
                                    "3": "999862"
                                },
                                {
                                    "0": "CEU6500000057",
                                    "1": "65000000",
                                    "2": "Education and health services",
                                    "3": "19616812"
                                },
                                {
                                    "0": "CEU6500000082",
                                    "1": "65000000",
                                    "2": "Education and health services",
                                    "3": "14816074"
                                },
                                {
                                    "0": "CEU6562000057",
                                    "1": "65620000",
                                    "2": "Health care and social assistance",
                                    "3": "16893809"
                                },
                                {
                                    "0": "CEU6562000082",
                                    "1": "65620000",
                                    "2": "Health care and social assistance",
                                    "3": "12878462"
                                },
                                {
                                    "0": "CEU6562000157",
                                    "1": "65620001",
                                    "2": "NULL",
                                    "3": "15094574"
                                },
                                {
                                    "0": "CEU6562000182",
                                    "1": "65620001",
                                    "2": "NULL",
                                    "3": "11537267"
                                },
                                {
                                    "0": "CEU6562100057",
                                    "1": "65621000",
                                    "2": "Ambulatory health care services",
                                    "3": "7203262"
                                },
                                {
                                    "0": "CEU6562100082",
                                    "1": "65621000",
                                    "2": "Ambulatory health care services",
                                    "3": "4907269"
                                },
                                {
                                    "0": "CEU6562110057",
                                    "1": "65621100",
                                    "2": "Offices of physicians",
                                    "3": "3513888"
                                },
                                {
                                    "0": "CEU6562110082",
                                    "1": "65621100",
                                    "2": "Offices of physicians",
                                    "3": "2149121"
                                },
                                {
                                    "0": "CEU6562111157",
                                    "1": "65621111",
                                    "2": "Offices of physicians",
                                    "3": "3465699"
                                },
                                {
                                    "0": "CEU6562111182",
                                    "1": "65621111",
                                    "2": "Offices of physicians",
                                    "3": "2121845"
                                },
                                {
                                    "0": "CEU6562120057",
                                    "1": "65621200",
                                    "2": "Offices of dentists",
                                    "3": "847345"
                                },
                                {
                                    "0": "CEU6562140057",
                                    "1": "65621400",
                                    "2": "Outpatient care centers",
                                    "3": "848281"
                                },
                                {
                                    "0": "CEU6562200057",
                                    "1": "65622000",
                                    "2": "Hospitals",
                                    "3": "5923747"
                                },
                                {
                                    "0": "CEU6562200082",
                                    "1": "65622000",
                                    "2": "Hospitals",
                                    "3": "5105336"
                                },
                                {
                                    "0": "CEU6562210057",
                                    "1": "65622100",
                                    "2": "General medical and surgical hospitals",
                                    "3": "5505844"
                                },
                                {
                                    "0": "CEU6562210082",
                                    "1": "65622100",
                                    "2": "General medical and surgical hospitals",
                                    "3": "4773547"
                                },
                                {
                                    "0": "CEU6562300057",
                                    "1": "65623000",
                                    "2": "Nursing and residential care facilities",
                                    "3": "1981669"
                                },
                                {
                                    "0": "CEU6562300082",
                                    "1": "65623000",
                                    "2": "Nursing and residential care facilities",
                                    "3": "1525889"
                                },
                                {
                                    "0": "CEU6562310057",
                                    "1": "65623100",
                                    "2": "Nursing care facilities",
                                    "3": "1017723"
                                },
                                {
                                    "0": "CEU6562400057",
                                    "1": "65624000",
                                    "2": "Social assistance",
                                    "3": "1811418"
                                },
                                {
                                    "0": "CEU6562400082",
                                    "1": "65624000",
                                    "2": "Social assistance",
                                    "3": "1357629"
                                },
                                {
                                    "0": "CEU6562410057",
                                    "1": "65624100",
                                    "2": "Individual and family services",
                                    "3": "1105190"
                                },
                                {
                                    "0": "CEU6562410082",
                                    "1": "65624100",
                                    "2": "Individual and family services",
                                    "3": "838886"
                                },
                                {
                                    "0": "CEU7000000057",
                                    "1": "70000000",
                                    "2": "Leisure and hospitality",
                                    "3": "5920672"
                                },
                                {
                                    "0": "CEU7000000082",
                                    "1": "70000000",
                                    "2": "Leisure and hospitality",
                                    "3": "4224098"
                                },
                                {
                                    "0": "CEU7071000057",
                                    "1": "70710000",
                                    "2": "Arts",
                                    "3": "1074458"
                                },
                                {
                                    "0": "CEU7072000057",
                                    "1": "70720000",
                                    "2": "Accommodation and food services",
                                    "3": "4847577"
                                },
                                {
                                    "0": "CEU7072000082",
                                    "1": "70720000",
                                    "2": "Accommodation and food services",
                                    "3": "3572648"
                                },
                                {
                                    "0": "CEU7072100057",
                                    "1": "70721000",
                                    "2": "Accommodation",
                                    "3": "958129"
                                },
                                {
                                    "0": "CEU7072110057",
                                    "1": "70721100",
                                    "2": "Traveler accommodation",
                                    "3": "938363"
                                },
                                {
                                    "0": "CEU7072200057",
                                    "1": "70722000",
                                    "2": "Food services and drinking places",
                                    "3": "3877793"
                                },
                                {
                                    "0": "CEU7072200082",
                                    "1": "70722000",
                                    "2": "Food services and drinking places",
                                    "3": "2913295"
                                },
                                {
                                    "0": "CEU7072250057",
                                    "1": "70722500",
                                    "2": "Restaurants and other eating places",
                                    "3": "3471778"
                                },
                                {
                                    "0": "CEU7072250082",
                                    "1": "70722500",
                                    "2": "Restaurants and other eating places",
                                    "3": "2617225"
                                },
                                {
                                    "0": "CEU7072251157",
                                    "1": "70722511",
                                    "2": "Full-service restaurants",
                                    "3": "2009900"
                                },
                                {
                                    "0": "CEU7072251182",
                                    "1": "70722511",
                                    "2": "Full-service restaurants",
                                    "3": "1528888"
                                },
                                {
                                    "0": "CEU7072251357",
                                    "1": "70722513",
                                    "2": "Limited-service restaurants",
                                    "3": "1237183"
                                },
                                {
                                    "0": "CEU7072251382",
                                    "1": "70722513",
                                    "2": "Limited-service restaurants",
                                    "3": "922041"
                                },
                                {
                                    "0": "CEU8000000057",
                                    "1": "80000000",
                                    "2": "Other services",
                                    "3": "4254988"
                                },
                                {
                                    "0": "CEU8000000082",
                                    "1": "80000000",
                                    "2": "Other services",
                                    "3": "2836698"
                                },
                                {
                                    "0": "CEU8081100057",
                                    "1": "80811000",
                                    "2": "Repair and maintenance",
                                    "3": "1038855"
                                },
                                {
                                    "0": "CEU8081300057",
                                    "1": "80813000",
                                    "2": "Membership associations and organizations",
                                    "3": "2507238"
                                },
                                {
                                    "0": "CEU8081300082",
                                    "1": "80813000",
                                    "2": "Membership associations and organizations",
                                    "3": "1594855"
                                }
                            ]
                        },
                        "text/html": [
                            "<table>",
                            "<tr><th>series_id</th><th>industry_code</th><th>industry_name</th><th>value</th></tr>",
                            "<tr><td>CES0500000056</td><td>5000000</td><td>Total private</td><td>4239112</td></tr>",
                            "<tr><td>CES0500000057</td><td>5000000</td><td>Total private</td><td>110301694</td></tr>",
                            "<tr><td>CES0500000081</td><td>5000000</td><td>Total private</td><td>3412651</td></tr>",
                            "<tr><td>CES0500000082</td><td>5000000</td><td>Total private</td><td>74498171</td></tr>",
                            "<tr><td>CES0600000057</td><td>6000000</td><td>Goods-producing</td><td>21779094</td></tr>",
                            "<tr><td>CES0600000082</td><td>6000000</td><td>Goods-producing</td><td>13426820</td></tr>",
                            "<tr><td>CES0800000056</td><td>8000000</td><td>Private service-providing</td><td>3432382</td></tr>",
                            "<tr><td>CES0800000057</td><td>8000000</td><td>Private service-providing</td><td>88280865</td></tr>",
                            "<tr><td>CES0800000081</td><td>8000000</td><td>Private service-providing</td><td>2818821</td></tr>",
                            "<tr><td>CES0800000082</td><td>8000000</td><td>Private service-providing</td><td>60914722</td></tr>",
                            "<tr><td>CES1000000057</td><td>10000000</td><td>Mining and logging</td><td>966707</td></tr>",
                            "<tr><td>CES1021000057</td><td>10210000</td><td>Mining</td><td>927250</td></tr>",
                            "<tr><td>CES2000000057</td><td>20000000</td><td>Construction</td><td>7555007</td></tr>",
                            "<tr><td>CES2000000082</td><td>20000000</td><td>Construction</td><td>5335274</td></tr>",
                            "<tr><td>CES2023600057</td><td>20236000</td><td>Construction of buildings</td><td>1765016</td></tr>",
                            "<tr><td>CES2023600082</td><td>20236000</td><td>Construction of buildings</td><td>1008035</td></tr>",
                            "<tr><td>CES2023620057</td><td>20236200</td><td>Nonresidential building</td><td>990555</td></tr>",
                            "<tr><td>CES2023700057</td><td>20237000</td><td>Heavy and civil engineering construction</td><td>1221764</td></tr>",
                            "<tr><td>CES2023700082</td><td>20237000</td><td>Heavy and civil engineering construction</td><td>908374</td></tr>",
                            "<tr><td>CES2023800057</td><td>20238000</td><td>Specialty trade contractors</td><td>4595075</td></tr>",
                            "<tr><td>CES2023800082</td><td>20238000</td><td>Specialty trade contractors</td><td>3421902</td></tr>",
                            "<tr><td>CES2023810057</td><td>20238100</td><td>Building foundation and exterior contractors</td><td>833625</td></tr>",
                            "<tr><td>CES2023820057</td><td>20238200</td><td>Building equipment contractors</td><td>2326342</td></tr>",
                            "<tr><td>CES2023820082</td><td>20238200</td><td>Building equipment contractors</td><td>1696080</td></tr>",
                            "<tr><td>CES2023821057</td><td>20238210</td><td>Electrical contractors</td><td>1039534</td></tr>",
                            "<tr><td>CES2023822057</td><td>20238220</td><td>Plumbing and HVAC contractors</td><td>1115270</td></tr>",
                            "<tr><td>CES3000000057</td><td>30000000</td><td>Manufacturing</td><td>13282613</td></tr>",
                            "<tr><td>CES3000000082</td><td>30000000</td><td>Manufacturing</td><td>7491723</td></tr>",
                            "<tr><td>CES3100000057</td><td>31000000</td><td>Durable goods</td><td>8769944</td></tr>",
                            "<tr><td>CES3100000082</td><td>31000000</td><td>Durable goods</td><td>4859716</td></tr>",
                            "<tr><td>CES3133200057</td><td>31332000</td><td>Fabricated metal products</td><td>1421283</td></tr>",
                            "<tr><td>CES3133200082</td><td>31332000</td><td>Fabricated metal products</td><td>871298</td></tr>",
                            "<tr><td>CES3133300057</td><td>31333000</td><td>Machinery</td><td>1251217</td></tr>",
                            "<tr><td>CES3133400057</td><td>31334000</td><td>Computer and electronic products</td><td>1489440</td></tr>",
                            "<tr><td>CES3133600057</td><td>31336000</td><td>Transportation equipment</td><td>2130760</td></tr>",
                            "<tr><td>CES3133600082</td><td>31336000</td><td>Transportation equipment</td><td>1257764</td></tr>",
                            "<tr><td>CES3133600157</td><td>31336001</td><td>NULL</td><td>1050677</td></tr>",
                            "<tr><td>CES3133640057</td><td>31336400</td><td>Aerospace products and parts</td><td>879785</td></tr>",
                            "<tr><td>CES3200000057</td><td>32000000</td><td>Nondurable goods</td><td>4496035</td></tr>",
                            "<tr><td>CES3200000082</td><td>32000000</td><td>Nondurable goods</td><td>2633628</td></tr>",
                            "<tr><td>CES3231100057</td><td>32311000</td><td>Food manufacturing</td><td>1293730</td></tr>",
                            "<tr><td>CES3231100082</td><td>32311000</td><td>Food manufacturing</td><td>851406</td></tr>",
                            "<tr><td>CES3232500057</td><td>32325000</td><td>Chemicals</td><td>1083956</td></tr>",
                            "<tr><td>CES4000000056</td><td>40000000</td><td>Trade</td><td>939889</td></tr>",
                            "<tr><td>CES4000000057</td><td>40000000</td><td>Trade</td><td>21232093</td></tr>",
                            "<tr><td>CES4000000082</td><td>40000000</td><td>Trade</td><td>14850661</td></tr>",
                            "<tr><td>CES4142000057</td><td>41420000</td><td>Wholesale trade</td><td>6858602</td></tr>",
                            "<tr><td>CES4142000082</td><td>41420000</td><td>Wholesale trade</td><td>4480134</td></tr>",
                            "<tr><td>CES4142300057</td><td>41423000</td><td>Durable goods</td><td>3449034</td></tr>",
                            "<tr><td>CES4142300082</td><td>41423000</td><td>Durable goods</td><td>2261006</td></tr>",
                            "<tr><td>CES4142340057</td><td>41423400</td><td>Commercial equipment</td><td>915034</td></tr>",
                            "<tr><td>CES4142400057</td><td>41424000</td><td>Nondurable goods</td><td>2042100</td></tr>",
                            "<tr><td>CES4142400082</td><td>41424000</td><td>Nondurable goods</td><td>1367413</td></tr>",
                            "<tr><td>CES4142500057</td><td>41425000</td><td>Electronic markets and agents and brokers</td><td>1359605</td></tr>",
                            "<tr><td>CES4142500082</td><td>41425000</td><td>Electronic markets and agents and brokers</td><td>855291</td></tr>",
                            "<tr><td>CES4142512057</td><td>41425120</td><td>Wholesale trade agents and brokers</td><td>1317589</td></tr>",
                            "<tr><td>CES4142512082</td><td>41425120</td><td>Wholesale trade agents and brokers</td><td>831319</td></tr>",
                            "<tr><td>CES4200000057</td><td>42000000</td><td>Retail trade</td><td>8857570</td></tr>",
                            "<tr><td>CES4200000082</td><td>42000000</td><td>Retail trade</td><td>6123554</td></tr>",
                            "<tr><td>CES4244100057</td><td>42441000</td><td>Motor vehicle and parts dealers</td><td>1740340</td></tr>",
                            "<tr><td>CES4244100082</td><td>42441000</td><td>Motor vehicle and parts dealers</td><td>1180297</td></tr>",
                            "<tr><td>CES4244110057</td><td>42441100</td><td>Automobile dealers</td><td>1232818</td></tr>",
                            "<tr><td>CES4244110082</td><td>42441100</td><td>Automobile dealers</td><td>839595</td></tr>",
                            "<tr><td>CES4244111057</td><td>42441110</td><td>New car dealers</td><td>1110063</td></tr>",
                            "<tr><td>CES4244500057</td><td>42445000</td><td>Food and beverage stores</td><td>1352705</td></tr>",
                            "<tr><td>CES4244500082</td><td>42445000</td><td>Food and beverage stores</td><td>974710</td></tr>",
                            "<tr><td>CES4244510057</td><td>42445100</td><td>Grocery stores</td><td>1180650</td></tr>",
                            "<tr><td>CES4244510082</td><td>42445100</td><td>Grocery stores</td><td>868430</td></tr>",
                            "<tr><td>CES4244511057</td><td>42445110</td><td>Supermarkets and other grocery stores</td><td>1120814</td></tr>",
                            "<tr><td>CES4244511082</td><td>42445110</td><td>Supermarkets and other grocery stores</td><td>821282</td></tr>",
                            "<tr><td>CES4245200057</td><td>42452000</td><td>General merchandise stores</td><td>1437264</td></tr>",
                            "<tr><td>CES4245200082</td><td>42452000</td><td>General merchandise stores</td><td>1065807</td></tr>",
                            "<tr><td>CES4300000057</td><td>43000000</td><td>Transportation and warehousing</td><td>4588906</td></tr>",
                            "<tr><td>CES4300000082</td><td>43000000</td><td>Transportation and warehousing</td><td>3538683</td></tr>",
                            "<tr><td>CES4348400057</td><td>43484000</td><td>Truck transportation</td><td>1392202</td></tr>",
                            "<tr><td>CES4348400082</td><td>43484000</td><td>Truck transportation</td><td>1131821</td></tr>",
                            "<tr><td>CES4348410057</td><td>43484100</td><td>General freight trucking</td><td>966602</td></tr>",
                            "<tr><td>CES4422000057</td><td>44220000</td><td>Utilities</td><td>920941</td></tr>",
                            "<tr><td>CES5000000057</td><td>50000000</td><td>Information</td><td>3751205</td></tr>",
                            "<tr><td>CES5000000082</td><td>50000000</td><td>Information</td><td>2416443</td></tr>",
                            "<tr><td>CES5051100057</td><td>50511000</td><td>Publishing industries</td><td>1183283</td></tr>",
                            "<tr><td>CES5051700057</td><td>50517000</td><td>Telecommunications</td><td>992441</td></tr>",
                            "<tr><td>CES5500000057</td><td>55000000</td><td>Financial activities</td><td>10213192</td></tr>",
                            "<tr><td>CES5500000082</td><td>55000000</td><td>Financial activities</td><td>6328968</td></tr>",
                            "<tr><td>CES5552200057</td><td>55522000</td><td>Credit intermediation and related activities</td><td>3075310</td></tr>",
                            "<tr><td>CES5552200082</td><td>55522000</td><td>Credit intermediation and related activities</td><td>1717912</td></tr>",
                            "<tr><td>CES5552210057</td><td>55522100</td><td>Depository credit intermediation</td><td>1921539</td></tr>",
                            "<tr><td>CES5552210082</td><td>55522100</td><td>Depository credit intermediation</td><td>971796</td></tr>",
                            "<tr><td>CES5552211057</td><td>55522110</td><td>Commercial banking</td><td>1533413</td></tr>",
                            "<tr><td>CES5552300057</td><td>55523000</td><td>NULL</td><td>1756545</td></tr>",
                            "<tr><td>CES5552300082</td><td>55523000</td><td>NULL</td><td>1044224</td></tr>",
                            "<tr><td>CES5552320057</td><td>55523200</td><td>NULL</td><td>852241</td></tr>",
                            "<tr><td>CES5552390057</td><td>55523900</td><td>Other financial investment activities</td><td>905217</td></tr>",
                            "<tr><td>CES5552400057</td><td>55524000</td><td>Insurance carriers and related activities</td><td>3411895</td></tr>",
                            "<tr><td>CES5552400082</td><td>55524000</td><td>Insurance carriers and related activities</td><td>2347328</td></tr>",
                            "<tr><td>CES5552410057</td><td>55524100</td><td>Insurance carriers</td><td>2130379</td></tr>",
                            "<tr><td>CES5552410082</td><td>55524100</td><td>Insurance carriers</td><td>1477799</td></tr>",
                            "<tr><td>CES5552411057</td><td>55524110</td><td>Direct life and health insurance carriers</td><td>1169424</td></tr>",
                            "<tr><td>CES5552412057</td><td>55524120</td><td>Direct insurers</td><td>917557</td></tr>",
                            "<tr><td>CES5552420057</td><td>55524200</td><td>Insurance agencies</td><td>1281029</td></tr>",
                            "<tr><td>CES5552420082</td><td>55524200</td><td>Insurance agencies</td><td>872398</td></tr>",
                            "<tr><td>CES5552421057</td><td>55524210</td><td>Insurance agencies and brokerages</td><td>858730</td></tr>",
                            "<tr><td>CES5553100057</td><td>55531000</td><td>Real estate</td><td>1417131</td></tr>",
                            "<tr><td>CES5553100082</td><td>55531000</td><td>Real estate</td><td>862987</td></tr>",
                            "<tr><td>CES6000000057</td><td>60000000</td><td>Professional and business services</td><td>23113158</td></tr>",
                            "<tr><td>CES6000000082</td><td>60000000</td><td>Professional and business services</td><td>15251268</td></tr>",
                            "<tr><td>CES6054000057</td><td>60540000</td><td>Professional and technical services</td><td>13464691</td></tr>",
                            "<tr><td>CES6054000082</td><td>60540000</td><td>Professional and technical services</td><td>8821026</td></tr>",
                            "<tr><td>CES6054110057</td><td>60541100</td><td>Legal services</td><td>1666281</td></tr>",
                            "<tr><td>CES6054110082</td><td>60541100</td><td>Legal services</td><td>1058862</td></tr>",
                            "<tr><td>CES6054111057</td><td>60541110</td><td>Offices of lawyers</td><td>1588040</td></tr>",
                            "<tr><td>CES6054111082</td><td>60541110</td><td>Offices of lawyers</td><td>1004009</td></tr>",
                            "<tr><td>CES6054120057</td><td>60541200</td><td>Accounting and bookkeeping services</td><td>1116237</td></tr>",
                            "<tr><td>CES6054130057</td><td>60541300</td><td>Architectural and engineering services</td><td>2152162</td></tr>",
                            "<tr><td>CES6054130082</td><td>60541300</td><td>Architectural and engineering services</td><td>1439445</td></tr>",
                            "<tr><td>CES6054134057</td><td>60541340</td><td>NULL</td><td>1536969</td></tr>",
                            "<tr><td>CES6054134082</td><td>60541340</td><td>NULL</td><td>1051499</td></tr>",
                            "<tr><td>CES6054150057</td><td>60541500</td><td>Computer systems design and related services</td><td>3595409</td></tr>",
                            "<tr><td>CES6054150082</td><td>60541500</td><td>Computer systems design and related services</td><td>2666568</td></tr>",
                            "<tr><td>CES6054151157</td><td>60541511</td><td>Custom computer programming services</td><td>1596292</td></tr>",
                            "<tr><td>CES6054151182</td><td>60541511</td><td>Custom computer programming services</td><td>1173494</td></tr>",
                            "<tr><td>CES6054151257</td><td>60541512</td><td>Computer systems design services</td><td>1695613</td></tr>",
                            "<tr><td>CES6054151282</td><td>60541512</td><td>Computer systems design services</td><td>1274481</td></tr>",
                            "<tr><td>CES6054160057</td><td>60541600</td><td>Management and technical consulting services</td><td>2103707</td></tr>",
                            "<tr><td>CES6054160082</td><td>60541600</td><td>Management and technical consulting services</td><td>1330587</td></tr>",
                            "<tr><td>CES6054161057</td><td>60541610</td><td>Management consulting services</td><td>1711601</td></tr>",
                            "<tr><td>CES6054161082</td><td>60541610</td><td>Management consulting services</td><td>1053691</td></tr>",
                            "<tr><td>CES6054161157</td><td>60541611</td><td>Administrative management consulting services</td><td>955447</td></tr>",
                            "<tr><td>CES6054170057</td><td>60541700</td><td>Scientific research and development services</td><td>1265137</td></tr>",
                            "<tr><td>CES6054171057</td><td>60541710</td><td>Research and development in the physical</td><td>1188296</td></tr>",
                            "<tr><td>CES6054171257</td><td>60541712</td><td>Physical</td><td>860377</td></tr>",
                            "<tr><td>CES6055000057</td><td>60550000</td><td>Management of companies and enterprises</td><td>3428612</td></tr>",
                            "<tr><td>CES6055000082</td><td>60550000</td><td>Management of companies and enterprises</td><td>1566036</td></tr>",
                            "<tr><td>CES6055111457</td><td>60551114</td><td>Managing offices</td><td>3270688</td></tr>",
                            "<tr><td>CES6055111482</td><td>60551114</td><td>Managing offices</td><td>1496334</td></tr>",
                            "<tr><td>CES6056000057</td><td>60560000</td><td>Administrative and waste services</td><td>6272001</td></tr>",
                            "<tr><td>CES6056000082</td><td>60560000</td><td>Administrative and waste services</td><td>4886085</td></tr>",
                            "<tr><td>CES6056100057</td><td>60561000</td><td>Administrative and support services</td><td>5838373</td></tr>",
                            "<tr><td>CES6056100082</td><td>60561000</td><td>Administrative and support services</td><td>4565569</td></tr>",
                            "<tr><td>CES6056130057</td><td>60561300</td><td>Employment services</td><td>2255347</td></tr>",
                            "<tr><td>CES6056130082</td><td>60561300</td><td>Employment services</td><td>2013846</td></tr>",
                            "<tr><td>CES6056132057</td><td>60561320</td><td>Temporary help services</td><td>1723484</td></tr>",
                            "<tr><td>CES6056132082</td><td>60561320</td><td>Temporary help services</td><td>1598939</td></tr>",
                            "<tr><td>CES6056170057</td><td>60561700</td><td>Services to buildings and dwellings</td><td>1150182</td></tr>",
                            "<tr><td>CES6056170082</td><td>60561700</td><td>Services to buildings and dwellings</td><td>846000</td></tr>",
                            "<tr><td>CES6500000057</td><td>65000000</td><td>Education and health services</td><td>19585920</td></tr>",
                            "<tr><td>CES6500000082</td><td>65000000</td><td>Education and health services</td><td>14765156</td></tr>",
                            "<tr><td>CES6562000057</td><td>65620000</td><td>Health care and social assistance</td><td>16718245</td></tr>",
                            "<tr><td>CES6562000082</td><td>65620000</td><td>Health care and social assistance</td><td>12762526</td></tr>",
                            "<tr><td>CES6562000157</td><td>65620001</td><td>NULL</td><td>14957970</td></tr>",
                            "<tr><td>CES6562000182</td><td>65620001</td><td>NULL</td><td>11413008</td></tr>",
                            "<tr><td>CES6562100057</td><td>65621000</td><td>Ambulatory health care services</td><td>7193566</td></tr>",
                            "<tr><td>CES6562100082</td><td>65621000</td><td>Ambulatory health care services</td><td>4875906</td></tr>",
                            "<tr><td>CES6562110057</td><td>65621100</td><td>Offices of physicians</td><td>3521877</td></tr>",
                            "<tr><td>CES6562110082</td><td>65621100</td><td>Offices of physicians</td><td>2141331</td></tr>",
                            "<tr><td>CES6562111157</td><td>65621111</td><td>Offices of physicians</td><td>3472162</td></tr>",
                            "<tr><td>CES6562111182</td><td>65621111</td><td>Offices of physicians</td><td>2113086</td></tr>",
                            "<tr><td>CES6562120057</td><td>65621200</td><td>Offices of dentists</td><td>842558</td></tr>",
                            "<tr><td>CES6562140057</td><td>65621400</td><td>Outpatient care centers</td><td>839455</td></tr>",
                            "<tr><td>CES6562200057</td><td>65622000</td><td>Hospitals</td><td>5842779</td></tr>",
                            "<tr><td>CES6562200082</td><td>65622000</td><td>Hospitals</td><td>5048432</td></tr>",
                            "<tr><td>CES6562210057</td><td>65622100</td><td>General medical and surgical hospitals</td><td>5428714</td></tr>",
                            "<tr><td>CES6562210082</td><td>65622100</td><td>General medical and surgical hospitals</td><td>4716914</td></tr>",
                            "<tr><td>CES6562300057</td><td>65623000</td><td>Nursing and residential care facilities</td><td>1941241</td></tr>",
                            "<tr><td>CES6562300082</td><td>65623000</td><td>Nursing and residential care facilities</td><td>1489277</td></tr>",
                            "<tr><td>CES6562310057</td><td>65623100</td><td>Nursing care facilities</td><td>994994</td></tr>",
                            "<tr><td>CES6562400057</td><td>65624000</td><td>Social assistance</td><td>1787502</td></tr>",
                            "<tr><td>CES6562400082</td><td>65624000</td><td>Social assistance</td><td>1337022</td></tr>",
                            "<tr><td>CES6562410057</td><td>65624100</td><td>Individual and family services</td><td>1095365</td></tr>",
                            "<tr><td>CES6562410082</td><td>65624100</td><td>Individual and family services</td><td>828771</td></tr>",
                            "<tr><td>CES7000000057</td><td>70000000</td><td>Leisure and hospitality</td><td>6232054</td></tr>",
                            "<tr><td>CES7000000082</td><td>70000000</td><td>Leisure and hospitality</td><td>4537173</td></tr>",
                            "<tr><td>CES7071000057</td><td>70710000</td><td>Arts</td><td>1167355</td></tr>",
                            "<tr><td>CES7072000057</td><td>70720000</td><td>Accommodation and food services</td><td>5078737</td></tr>",
                            "<tr><td>CES7072000082</td><td>70720000</td><td>Accommodation and food services</td><td>3802356</td></tr>",
                            "<tr><td>CES7072100057</td><td>70721000</td><td>Accommodation</td><td>1008168</td></tr>",
                            "<tr><td>CES7072110057</td><td>70721100</td><td>Traveler accommodation</td><td>980738</td></tr>",
                            "<tr><td>CES7072200057</td><td>70722000</td><td>Food services and drinking places</td><td>4058595</td></tr>",
                            "<tr><td>CES7072200082</td><td>70722000</td><td>Food services and drinking places</td><td>3085429</td></tr>",
                            "<tr><td>CES7072250057</td><td>70722500</td><td>Restaurants and other eating places</td><td>3617277</td></tr>",
                            "<tr><td>CES7072250082</td><td>70722500</td><td>Restaurants and other eating places</td><td>2768855</td></tr>",
                            "<tr><td>CES7072251157</td><td>70722511</td><td>Full-service restaurants</td><td>2105534</td></tr>",
                            "<tr><td>CES7072251182</td><td>70722511</td><td>Full-service restaurants</td><td>1626780</td></tr>",
                            "<tr><td>CES7072251357</td><td>70722513</td><td>Limited-service restaurants</td><td>1281353</td></tr>",
                            "<tr><td>CES7072251382</td><td>70722513</td><td>Limited-service restaurants</td><td>969748</td></tr>",
                            "<tr><td>CES8000000057</td><td>80000000</td><td>Other services</td><td>4263141</td></tr>",
                            "<tr><td>CES8000000082</td><td>80000000</td><td>Other services</td><td>2875314</td></tr>",
                            "<tr><td>CES8081100057</td><td>80811000</td><td>Repair and maintenance</td><td>1051091</td></tr>",
                            "<tr><td>CES8081300057</td><td>80813000</td><td>Membership associations and organizations</td><td>2494120</td></tr>",
                            "<tr><td>CES8081300082</td><td>80813000</td><td>Membership associations and organizations</td><td>1599916</td></tr>",
                            "<tr><td>CEU0500000056</td><td>5000000</td><td>Total private</td><td>4165978</td></tr>",
                            "<tr><td>CEU0500000057</td><td>5000000</td><td>Total private</td><td>109731861</td></tr>",
                            "<tr><td>CEU0500000081</td><td>5000000</td><td>Total private</td><td>3335193</td></tr>",
                            "<tr><td>CEU0500000082</td><td>5000000</td><td>Total private</td><td>73474302</td></tr>",
                            "<tr><td>CEU0600000057</td><td>6000000</td><td>Goods-producing</td><td>21113749</td></tr>",
                            "<tr><td>CEU0600000082</td><td>6000000</td><td>Goods-producing</td><td>12711945</td></tr>",
                            "<tr><td>CEU0800000056</td><td>8000000</td><td>Private service-providing</td><td>3388741</td></tr>",
                            "<tr><td>CEU0800000057</td><td>8000000</td><td>Private service-providing</td><td>88446140</td></tr>",
                            "<tr><td>CEU0800000081</td><td>8000000</td><td>Private service-providing</td><td>2777879</td></tr>",
                            "<tr><td>CEU0800000082</td><td>8000000</td><td>Private service-providing</td><td>60807771</td></tr>",
                            "<tr><td>CEU1000000057</td><td>10000000</td><td>Mining and logging</td><td>973773</td></tr>",
                            "<tr><td>CEU1021000057</td><td>10210000</td><td>Mining</td><td>932874</td></tr>",
                            "<tr><td>CEU2000000057</td><td>20000000</td><td>Construction</td><td>6925429</td></tr>",
                            "<tr><td>CEU2000000082</td><td>20000000</td><td>Construction</td><td>4724156</td></tr>",
                            "<tr><td>CEU2023600057</td><td>20236000</td><td>Construction of buildings</td><td>1692237</td></tr>",
                            "<tr><td>CEU2023600082</td><td>20236000</td><td>Construction of buildings</td><td>940800</td></tr>",
                            "<tr><td>CEU2023620057</td><td>20236200</td><td>Nonresidential building</td><td>953792</td></tr>",
                            "<tr><td>CEU2023700057</td><td>20237000</td><td>Heavy and civil engineering construction</td><td>1023452</td></tr>",
                            "<tr><td>CEU2023800057</td><td>20238000</td><td>Specialty trade contractors</td><td>4210973</td></tr>",
                            "<tr><td>CEU2023800082</td><td>20238000</td><td>Specialty trade contractors</td><td>3062211</td></tr>",
                            "<tr><td>CEU2023820057</td><td>20238200</td><td>Building equipment contractors</td><td>2238858</td></tr>",
                            "<tr><td>CEU2023820082</td><td>20238200</td><td>Building equipment contractors</td><td>1621266</td></tr>",
                            "<tr><td>CEU2023821057</td><td>20238210</td><td>Electrical contractors</td><td>988806</td></tr>",
                            "<tr><td>CEU2023822057</td><td>20238220</td><td>Plumbing and HVAC contractors</td><td>1082068</td></tr>",
                            "<tr><td>CEU3000000057</td><td>30000000</td><td>Manufacturing</td><td>13241229</td></tr>",
                            "<tr><td>CEU3000000082</td><td>30000000</td><td>Manufacturing</td><td>7411960</td></tr>",
                            "<tr><td>CEU3100000057</td><td>31000000</td><td>Durable goods</td><td>8758974</td></tr>",
                            "<tr><td>CEU3100000082</td><td>31000000</td><td>Durable goods</td><td>4808368</td></tr>",
                            "<tr><td>CEU3133200057</td><td>31332000</td><td>Fabricated metal products</td><td>1417807</td></tr>",
                            "<tr><td>CEU3133200082</td><td>31332000</td><td>Fabricated metal products</td><td>867242</td></tr>",
                            "<tr><td>CEU3133300057</td><td>31333000</td><td>Machinery</td><td>1259875</td></tr>",
                            "<tr><td>CEU3133400057</td><td>31334000</td><td>Computer and electronic products</td><td>1499453</td></tr>",
                            "<tr><td>CEU3133600057</td><td>31336000</td><td>Transportation equipment</td><td>2137791</td></tr>",
                            "<tr><td>CEU3133600082</td><td>31336000</td><td>Transportation equipment</td><td>1242685</td></tr>",
                            "<tr><td>CEU3133600157</td><td>31336001</td><td>NULL</td><td>1053186</td></tr>",
                            "<tr><td>CEU3133640057</td><td>31336400</td><td>Aerospace products and parts</td><td>872986</td></tr>",
                            "<tr><td>CEU3200000057</td><td>32000000</td><td>Nondurable goods</td><td>4468396</td></tr>",
                            "<tr><td>CEU3200000082</td><td>32000000</td><td>Nondurable goods</td><td>2605069</td></tr>",
                            "<tr><td>CEU3231100057</td><td>32311000</td><td>Food manufacturing</td><td>1275631</td></tr>",
                            "<tr><td>CEU3231100082</td><td>32311000</td><td>Food manufacturing</td><td>842201</td></tr>",
                            "<tr><td>CEU3232500057</td><td>32325000</td><td>Chemicals</td><td>1086916</td></tr>",
                            "<tr><td>CEU4000000056</td><td>40000000</td><td>Trade</td><td>928918</td></tr>",
                            "<tr><td>CEU4000000057</td><td>40000000</td><td>Trade</td><td>21207198</td></tr>",
                            "<tr><td>CEU4000000082</td><td>40000000</td><td>Trade</td><td>14732108</td></tr>",
                            "<tr><td>CEU4142000057</td><td>41420000</td><td>Wholesale trade</td><td>6930351</td></tr>",
                            "<tr><td>CEU4142000082</td><td>41420000</td><td>Wholesale trade</td><td>4506110</td></tr>",
                            "<tr><td>CEU4142300057</td><td>41423000</td><td>Durable goods</td><td>3494945</td></tr>",
                            "<tr><td>CEU4142300082</td><td>41423000</td><td>Durable goods</td><td>2283094</td></tr>",
                            "<tr><td>CEU4142340057</td><td>41423400</td><td>Commercial equipment</td><td>949056</td></tr>",
                            "<tr><td>CEU4142400057</td><td>41424000</td><td>Nondurable goods</td><td>2044132</td></tr>",
                            "<tr><td>CEU4142400082</td><td>41424000</td><td>Nondurable goods</td><td>1348136</td></tr>",
                            "<tr><td>CEU4142500057</td><td>41425000</td><td>Electronic markets and agents and brokers</td><td>1389263</td></tr>",
                            "<tr><td>CEU4142500082</td><td>41425000</td><td>Electronic markets and agents and brokers</td><td>873578</td></tr>",
                            "<tr><td>CEU4142512057</td><td>41425120</td><td>Wholesale trade agents and brokers</td><td>1347220</td></tr>",
                            "<tr><td>CEU4142512082</td><td>41425120</td><td>Wholesale trade agents and brokers</td><td>851551</td></tr>",
                            "<tr><td>CEU4200000057</td><td>42000000</td><td>Retail trade</td><td>8761040</td></tr>",
                            "<tr><td>CEU4200000082</td><td>42000000</td><td>Retail trade</td><td>6060100</td></tr>",
                            "<tr><td>CEU4244100057</td><td>42441000</td><td>Motor vehicle and parts dealers</td><td>1724940</td></tr>",
                            "<tr><td>CEU4244100082</td><td>42441000</td><td>Motor vehicle and parts dealers</td><td>1163420</td></tr>",
                            "<tr><td>CEU4244110057</td><td>42441100</td><td>Automobile dealers</td><td>1239175</td></tr>",
                            "<tr><td>CEU4244110082</td><td>42441100</td><td>Automobile dealers</td><td>831131</td></tr>",
                            "<tr><td>CEU4244111057</td><td>42441110</td><td>New car dealers</td><td>1119385</td></tr>",
                            "<tr><td>CEU4244500057</td><td>42445000</td><td>Food and beverage stores</td><td>1338097</td></tr>",
                            "<tr><td>CEU4244500082</td><td>42445000</td><td>Food and beverage stores</td><td>963315</td></tr>",
                            "<tr><td>CEU4244510057</td><td>42445100</td><td>Grocery stores</td><td>1168906</td></tr>",
                            "<tr><td>CEU4244510082</td><td>42445100</td><td>Grocery stores</td><td>861224</td></tr>",
                            "<tr><td>CEU4244511057</td><td>42445110</td><td>Supermarkets and other grocery stores</td><td>1110354</td></tr>",
                            "<tr><td>CEU4245200057</td><td>42452000</td><td>General merchandise stores</td><td>1376086</td></tr>",
                            "<tr><td>CEU4245200082</td><td>42452000</td><td>General merchandise stores</td><td>1049973</td></tr>",
                            "<tr><td>CEU4300000057</td><td>43000000</td><td>Transportation and warehousing</td><td>4575913</td></tr>",
                            "<tr><td>CEU4300000082</td><td>43000000</td><td>Transportation and warehousing</td><td>3495553</td></tr>",
                            "<tr><td>CEU4348400057</td><td>43484000</td><td>Truck transportation</td><td>1346733</td></tr>",
                            "<tr><td>CEU4348400082</td><td>43484000</td><td>Truck transportation</td><td>1092427</td></tr>",
                            "<tr><td>CEU4348410057</td><td>43484100</td><td>General freight trucking</td><td>952051</td></tr>",
                            "<tr><td>CEU4422000057</td><td>44220000</td><td>Utilities</td><td>919164</td></tr>",
                            "<tr><td>CEU5000000057</td><td>50000000</td><td>Information</td><td>3839933</td></tr>",
                            "<tr><td>CEU5000000082</td><td>50000000</td><td>Information</td><td>2434992</td></tr>",
                            "<tr><td>CEU5051100057</td><td>50511000</td><td>Publishing industries</td><td>1227512</td></tr>",
                            "<tr><td>CEU5051120057</td><td>50511200</td><td>Software publishers</td><td>860100</td></tr>",
                            "<tr><td>CEU5051700057</td><td>50517000</td><td>Telecommunications</td><td>1020155</td></tr>",
                            "<tr><td>CEU5500000057</td><td>55000000</td><td>Financial activities</td><td>10456034</td></tr>",
                            "<tr><td>CEU5500000082</td><td>55000000</td><td>Financial activities</td><td>6467426</td></tr>",
                            "<tr><td>CEU5552200057</td><td>55522000</td><td>Credit intermediation and related activities</td><td>3149170</td></tr>",
                            "<tr><td>CEU5552200082</td><td>55522000</td><td>Credit intermediation and related activities</td><td>1767137</td></tr>",
                            "<tr><td>CEU5552210057</td><td>55522100</td><td>Depository credit intermediation</td><td>1979117</td></tr>",
                            "<tr><td>CEU5552210082</td><td>55522100</td><td>Depository credit intermediation</td><td>1004069</td></tr>",
                            "<tr><td>CEU5552211057</td><td>55522110</td><td>Commercial banking</td><td>1575662</td></tr>",
                            "<tr><td>CEU5552300057</td><td>55523000</td><td>NULL</td><td>1818312</td></tr>",
                            "<tr><td>CEU5552300082</td><td>55523000</td><td>NULL</td><td>1087325</td></tr>",
                            "<tr><td>CEU5552320057</td><td>55523200</td><td>NULL</td><td>882519</td></tr>",
                            "<tr><td>CEU5552390057</td><td>55523900</td><td>Other financial investment activities</td><td>937922</td></tr>",
                            "<tr><td>CEU5552400057</td><td>55524000</td><td>Insurance carriers and related activities</td><td>3532152</td></tr>",
                            "<tr><td>CEU5552400082</td><td>55524000</td><td>Insurance carriers and related activities</td><td>2408490</td></tr>",
                            "<tr><td>CEU5552410057</td><td>55524100</td><td>Insurance carriers</td><td>2215577</td></tr>",
                            "<tr><td>CEU5552410082</td><td>55524100</td><td>Insurance carriers</td><td>1509979</td></tr>",
                            "<tr><td>CEU5552411057</td><td>55524110</td><td>Direct life and health insurance carriers</td><td>1216763</td></tr>",
                            "<tr><td>CEU5552412057</td><td>55524120</td><td>Direct insurers</td><td>941433</td></tr>",
                            "<tr><td>CEU5552420057</td><td>55524200</td><td>Insurance agencies</td><td>1315375</td></tr>",
                            "<tr><td>CEU5552420082</td><td>55524200</td><td>Insurance agencies</td><td>894878</td></tr>",
                            "<tr><td>CEU5552421057</td><td>55524210</td><td>Insurance agencies and brokerages</td><td>878065</td></tr>",
                            "<tr><td>CEU5553100057</td><td>55531000</td><td>Real estate</td><td>1418712</td></tr>",
                            "<tr><td>CEU5553100082</td><td>55531000</td><td>Real estate</td><td>865620</td></tr>",
                            "<tr><td>CEU6000000057</td><td>60000000</td><td>Professional and business services</td><td>23230608</td></tr>",
                            "<tr><td>CEU6000000082</td><td>60000000</td><td>Professional and business services</td><td>15219807</td></tr>",
                            "<tr><td>CEU6054000057</td><td>60540000</td><td>Professional and technical services</td><td>13718735</td></tr>",
                            "<tr><td>CEU6054000082</td><td>60540000</td><td>Professional and technical services</td><td>8976687</td></tr>",
                            "<tr><td>CEU6054110057</td><td>60541100</td><td>Legal services</td><td>1722541</td></tr>",
                            "<tr><td>CEU6054110082</td><td>60541100</td><td>Legal services</td><td>1093898</td></tr>",
                            "<tr><td>CEU6054111057</td><td>60541110</td><td>Offices of lawyers</td><td>1641024</td></tr>",
                            "<tr><td>CEU6054111082</td><td>60541110</td><td>Offices of lawyers</td><td>1038464</td></tr>",
                            "<tr><td>CEU6054120057</td><td>60541200</td><td>Accounting and bookkeeping services</td><td>1202203</td></tr>",
                            "<tr><td>CEU6054130057</td><td>60541300</td><td>Architectural and engineering services</td><td>2146385</td></tr>",
                            "<tr><td>CEU6054130082</td><td>60541300</td><td>Architectural and engineering services</td><td>1422967</td></tr>",
                            "<tr><td>CEU6054134057</td><td>60541340</td><td>NULL</td><td>1537888</td></tr>",
                            "<tr><td>CEU6054134082</td><td>60541340</td><td>NULL</td><td>1042223</td></tr>",
                            "<tr><td>CEU6054150057</td><td>60541500</td><td>Computer systems design and related services</td><td>3676138</td></tr>",
                            "<tr><td>CEU6054150082</td><td>60541500</td><td>Computer systems design and related services</td><td>2725031</td></tr>",
                            "<tr><td>CEU6054151157</td><td>60541511</td><td>Custom computer programming services</td><td>1639255</td></tr>",
                            "<tr><td>CEU6054151182</td><td>60541511</td><td>Custom computer programming services</td><td>1198283</td></tr>",
                            "<tr><td>CEU6054151257</td><td>60541512</td><td>Computer systems design services</td><td>1738428</td></tr>",
                            "<tr><td>CEU6054151282</td><td>60541512</td><td>Computer systems design services</td><td>1309441</td></tr>",
                            "<tr><td>CEU6054160057</td><td>60541600</td><td>Management and technical consulting services</td><td>2123095</td></tr>",
                            "<tr><td>CEU6054160082</td><td>60541600</td><td>Management and technical consulting services</td><td>1336594</td></tr>",
                            "<tr><td>CEU6054161057</td><td>60541610</td><td>Management consulting services</td><td>1755386</td></tr>",
                            "<tr><td>CEU6054161082</td><td>60541610</td><td>Management consulting services</td><td>1066602</td></tr>",
                            "<tr><td>CEU6054161157</td><td>60541611</td><td>Administrative management consulting services</td><td>981156</td></tr>",
                            "<tr><td>CEU6054170057</td><td>60541700</td><td>Scientific research and development services</td><td>1283264</td></tr>",
                            "<tr><td>CEU6054171057</td><td>60541710</td><td>Research and development in the physical</td><td>1207983</td></tr>",
                            "<tr><td>CEU6054171257</td><td>60541712</td><td>Physical</td><td>874882</td></tr>",
                            "<tr><td>CEU6055000057</td><td>60550000</td><td>Management of companies and enterprises</td><td>3491614</td></tr>",
                            "<tr><td>CEU6055000082</td><td>60550000</td><td>Management of companies and enterprises</td><td>1587677</td></tr>",
                            "<tr><td>CEU6055111457</td><td>60551114</td><td>Managing offices</td><td>3329401</td></tr>",
                            "<tr><td>CEU6055111482</td><td>60551114</td><td>Managing offices</td><td>1517287</td></tr>",
                            "<tr><td>CEU6056000057</td><td>60560000</td><td>Administrative and waste services</td><td>6040399</td></tr>",
                            "<tr><td>CEU6056000082</td><td>60560000</td><td>Administrative and waste services</td><td>4659531</td></tr>",
                            "<tr><td>CEU6056100057</td><td>60561000</td><td>Administrative and support services</td><td>5597836</td></tr>",
                            "<tr><td>CEU6056100082</td><td>60561000</td><td>Administrative and support services</td><td>4357866</td></tr>",
                            "<tr><td>CEU6056130057</td><td>60561300</td><td>Employment services</td><td>2167910</td></tr>",
                            "<tr><td>CEU6056130082</td><td>60561300</td><td>Employment services</td><td>1938059</td></tr>",
                            "<tr><td>CEU6056132057</td><td>60561320</td><td>Temporary help services</td><td>1650527</td></tr>",
                            "<tr><td>CEU6056132082</td><td>60561320</td><td>Temporary help services</td><td>1530782</td></tr>",
                            "<tr><td>CEU6056170057</td><td>60561700</td><td>Services to buildings and dwellings</td><td>999862</td></tr>",
                            "<tr><td>CEU6500000057</td><td>65000000</td><td>Education and health services</td><td>19616812</td></tr>",
                            "<tr><td>CEU6500000082</td><td>65000000</td><td>Education and health services</td><td>14816074</td></tr>",
                            "<tr><td>CEU6562000057</td><td>65620000</td><td>Health care and social assistance</td><td>16893809</td></tr>",
                            "<tr><td>CEU6562000082</td><td>65620000</td><td>Health care and social assistance</td><td>12878462</td></tr>",
                            "<tr><td>CEU6562000157</td><td>65620001</td><td>NULL</td><td>15094574</td></tr>",
                            "<tr><td>CEU6562000182</td><td>65620001</td><td>NULL</td><td>11537267</td></tr>",
                            "<tr><td>CEU6562100057</td><td>65621000</td><td>Ambulatory health care services</td><td>7203262</td></tr>",
                            "<tr><td>CEU6562100082</td><td>65621000</td><td>Ambulatory health care services</td><td>4907269</td></tr>",
                            "<tr><td>CEU6562110057</td><td>65621100</td><td>Offices of physicians</td><td>3513888</td></tr>",
                            "<tr><td>CEU6562110082</td><td>65621100</td><td>Offices of physicians</td><td>2149121</td></tr>",
                            "<tr><td>CEU6562111157</td><td>65621111</td><td>Offices of physicians</td><td>3465699</td></tr>",
                            "<tr><td>CEU6562111182</td><td>65621111</td><td>Offices of physicians</td><td>2121845</td></tr>",
                            "<tr><td>CEU6562120057</td><td>65621200</td><td>Offices of dentists</td><td>847345</td></tr>",
                            "<tr><td>CEU6562140057</td><td>65621400</td><td>Outpatient care centers</td><td>848281</td></tr>",
                            "<tr><td>CEU6562200057</td><td>65622000</td><td>Hospitals</td><td>5923747</td></tr>",
                            "<tr><td>CEU6562200082</td><td>65622000</td><td>Hospitals</td><td>5105336</td></tr>",
                            "<tr><td>CEU6562210057</td><td>65622100</td><td>General medical and surgical hospitals</td><td>5505844</td></tr>",
                            "<tr><td>CEU6562210082</td><td>65622100</td><td>General medical and surgical hospitals</td><td>4773547</td></tr>",
                            "<tr><td>CEU6562300057</td><td>65623000</td><td>Nursing and residential care facilities</td><td>1981669</td></tr>",
                            "<tr><td>CEU6562300082</td><td>65623000</td><td>Nursing and residential care facilities</td><td>1525889</td></tr>",
                            "<tr><td>CEU6562310057</td><td>65623100</td><td>Nursing care facilities</td><td>1017723</td></tr>",
                            "<tr><td>CEU6562400057</td><td>65624000</td><td>Social assistance</td><td>1811418</td></tr>",
                            "<tr><td>CEU6562400082</td><td>65624000</td><td>Social assistance</td><td>1357629</td></tr>",
                            "<tr><td>CEU6562410057</td><td>65624100</td><td>Individual and family services</td><td>1105190</td></tr>",
                            "<tr><td>CEU6562410082</td><td>65624100</td><td>Individual and family services</td><td>838886</td></tr>",
                            "<tr><td>CEU7000000057</td><td>70000000</td><td>Leisure and hospitality</td><td>5920672</td></tr>",
                            "<tr><td>CEU7000000082</td><td>70000000</td><td>Leisure and hospitality</td><td>4224098</td></tr>",
                            "<tr><td>CEU7071000057</td><td>70710000</td><td>Arts</td><td>1074458</td></tr>",
                            "<tr><td>CEU7072000057</td><td>70720000</td><td>Accommodation and food services</td><td>4847577</td></tr>",
                            "<tr><td>CEU7072000082</td><td>70720000</td><td>Accommodation and food services</td><td>3572648</td></tr>",
                            "<tr><td>CEU7072100057</td><td>70721000</td><td>Accommodation</td><td>958129</td></tr>",
                            "<tr><td>CEU7072110057</td><td>70721100</td><td>Traveler accommodation</td><td>938363</td></tr>",
                            "<tr><td>CEU7072200057</td><td>70722000</td><td>Food services and drinking places</td><td>3877793</td></tr>",
                            "<tr><td>CEU7072200082</td><td>70722000</td><td>Food services and drinking places</td><td>2913295</td></tr>",
                            "<tr><td>CEU7072250057</td><td>70722500</td><td>Restaurants and other eating places</td><td>3471778</td></tr>",
                            "<tr><td>CEU7072250082</td><td>70722500</td><td>Restaurants and other eating places</td><td>2617225</td></tr>",
                            "<tr><td>CEU7072251157</td><td>70722511</td><td>Full-service restaurants</td><td>2009900</td></tr>",
                            "<tr><td>CEU7072251182</td><td>70722511</td><td>Full-service restaurants</td><td>1528888</td></tr>",
                            "<tr><td>CEU7072251357</td><td>70722513</td><td>Limited-service restaurants</td><td>1237183</td></tr>",
                            "<tr><td>CEU7072251382</td><td>70722513</td><td>Limited-service restaurants</td><td>922041</td></tr>",
                            "<tr><td>CEU8000000057</td><td>80000000</td><td>Other services</td><td>4254988</td></tr>",
                            "<tr><td>CEU8000000082</td><td>80000000</td><td>Other services</td><td>2836698</td></tr>",
                            "<tr><td>CEU8081100057</td><td>80811000</td><td>Repair and maintenance</td><td>1038855</td></tr>",
                            "<tr><td>CEU8081300057</td><td>80813000</td><td>Membership associations and organizations</td><td>2507238</td></tr>",
                            "<tr><td>CEU8081300082</td><td>80813000</td><td>Membership associations and organizations</td><td>1594855</td></tr>",
                            "</table>"
                        ]
                    }
                }
            ],
            "execution_count": 59
        },
        {
            "cell_type": "markdown",
            "source": [
                "2. <span style=\"background-color:rgb(255, 255, 255);font-size:10pt;white-space:pre-wrap;color:rgb(102, 102, 102);font-family:Arvo, serif;\">Create a Union table comparing average weekly earnings&nbsp; of production and nonsupervisory employees between annual_16 and january_17 using the data type 30.&nbsp; Round to the nearest penny.&nbsp; You should have a column for the average earnings and a column for the year, and the period.</span>"
            ],
            "metadata": {
                "azdata_cell_guid": "1bb0ed09-4b02-4132-910e-5903697628af"
            },
            "attachments": {}
        },
        {
            "cell_type": "code",
            "source": [
                "SELECT ROUND(AVG(value), 2, 0) AS average_earnings, year, period\r\n",
                "FROM (SELECT an2016.value, an2016.Year, an2016.period\r\n",
                "     FROM  LaborStatisticsDB.dbo.annual_2016 AS an2016, LaborStatisticsDB.dbo.series AS s\r\n",
                "     WHERE s.data_type_code = 30\r\n",
                "     AND s.series_id = an2016.series_id\r\n",
                "     UNION\r\n",
                "     SELECT jan2017.value, jan2017.Year, jan2017.period\r\n",
                "     FROM  LaborStatisticsDB.dbo.january_2017 AS jan2017,  LaborStatisticsDB.dbo.series AS ss\r\n",
                "     WHERE ss.data_type_code = 30\r\n",
                "     AND ss.series_id = jan2017.series_id) AS Union_Table\r\n",
                "GROUP BY year, period;\r\n",
                ""
            ],
            "metadata": {
                "azdata_cell_guid": "e07c3461-10d5-4640-bcb9-fe4e809971bd",
                "language": "sql",
                "tags": []
            },
            "outputs": [
                {
                    "output_type": "display_data",
                    "data": {
                        "text/html": "(2 rows affected)"
                    },
                    "metadata": {}
                },
                {
                    "output_type": "display_data",
                    "data": {
                        "text/html": "Total execution time: 00:00:00.143"
                    },
                    "metadata": {}
                },
                {
                    "output_type": "execute_result",
                    "metadata": {},
                    "execution_count": 60,
                    "data": {
                        "application/vnd.dataresource+json": {
                            "schema": {
                                "fields": [
                                    {
                                        "name": "average_earnings"
                                    },
                                    {
                                        "name": "year"
                                    },
                                    {
                                        "name": "period"
                                    }
                                ]
                            },
                            "data": [
                                {
                                    "0": "808.34",
                                    "1": "2017",
                                    "2": "M01"
                                },
                                {
                                    "0": "797.29",
                                    "1": "2016",
                                    "2": "M13"
                                }
                            ]
                        },
                        "text/html": [
                            "<table>",
                            "<tr><th>average_earnings</th><th>year</th><th>period</th></tr>",
                            "<tr><td>808.34</td><td>2017</td><td>M01</td></tr>",
                            "<tr><td>797.29</td><td>2016</td><td>M13</td></tr>",
                            "</table>"
                        ]
                    }
                }
            ],
            "execution_count": 60
        },
        {
            "cell_type": "markdown",
            "source": [
                "## <span style=\"font-size:12pt;font-family:Montserrat, sans-serif;color:rgb(53, 74, 95);background-color:rgb(255, 255, 255);font-weight:700;vertical-align:baseline;white-space:pre-wrap;\">Summarize Your Results</span>\n",
                "\n",
                "<span style=\"font-size:10pt;font-family:Arvo, serif;color:rgb(102, 102, 102);background-color:rgb(255, 255, 255);vertical-align:baseline;white-space:pre-wrap;\">With what you know now about the </span> <span style=\"background-color:rgb(255, 255, 255);color:rgb(102, 102, 102);font-family:&quot;Times New Roman&quot;;font-size:13.3333px;white-space:pre-wrap;\">Bureau of Labor Statistics (BLS) Current Employment Survey (CES) results and working with the</span> <span style=\"color:rgb(102, 102, 102);white-space:pre-wrap;font-family:&quot;Times New Roman&quot;;font-size:13.3333px;\">Labor Statistics Database</span><span style=\"background-color:rgb(255, 255, 255);color:rgb(102, 102, 102);font-family:Arvo, serif;font-size:10pt;white-space:pre-wrap;\">, answer the following questions. Note that while this is subjective, you should include relevant data to back up your opinion.</span>\n",
                "\n",
                "1. <span style=\"background-color:rgb(255, 255, 255);font-size:10pt;white-space:pre-wrap;color:rgb(102, 102, 102);font-family:Arvo, serif;\">During which time period did production and nonsupervisory employees fare better?</span>"
            ],
            "metadata": {
                "azdata_cell_guid": "780f65a6-b9e7-4f24-9132-293c47f559e8"
            },
            "attachments": {}
        },
        {
            "cell_type": "markdown",
            "source": [
                "With average weekly earnings of 808,34, employees around the January 2017 time period, fared better compared to the employees around the entire year of 2016 (average weekly rate of 797.29)"
            ],
            "metadata": {
                "azdata_cell_guid": "f11f1fb2-f7d1-41e5-bc9c-84087d7cfc93"
            },
            "attachments": {}
        },
        {
            "cell_type": "markdown",
            "source": [
                "2. <span style=\"background-color: rgb(255, 255, 255); font-size: 10pt; white-space: pre-wrap; color: rgb(102, 102, 102); font-family: Arvo, serif;\">In which industries did production and nonsupervisory employees fare better?</span>"
            ],
            "metadata": {
                "azdata_cell_guid": "f606e5e5-f6f1-4070-bbfa-e31617b43e56"
            },
            "attachments": {}
        },
        {
            "cell_type": "markdown",
            "source": [
                " The employees in the Total Private industry fare better because they had the highest total weekly payroll compared to other industries."
            ],
            "metadata": {
                "azdata_cell_guid": "94e18f5d-b87b-4ba6-b1fd-bde035dafc04"
            },
            "attachments": {}
        },
        {
            "cell_type": "markdown",
            "source": [
                "3. <span style=\"font-size: 10pt; font-family: Arvo, serif; color: rgb(102, 102, 102); background-color: rgb(255, 255, 255); font-variant-numeric: normal; font-variant-east-asian: normal; vertical-align: baseline; white-space: pre-wrap;\">Now that you have explored the datasets, is there any data or information that you wish you had in this analysis?</span>"
            ],
            "metadata": {
                "azdata_cell_guid": "101e4449-601a-46c6-b217-23f3339cfa76"
            },
            "attachments": {}
        },
        {
            "cell_type": "markdown",
            "source": [
                "I wish I had data that shows how different age groups are comparable, and how earnings are spread out based on race factor."
            ],
            "metadata": {
                "azdata_cell_guid": "d07e9180-f5e0-49b4-b395-2c6c8a5f8aac"
            },
            "attachments": {}
        }
    ]
}